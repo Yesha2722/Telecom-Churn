{
 "cells": [
  {
   "cell_type": "markdown",
   "id": "370f6ff9",
   "metadata": {
    "id": "370f6ff9",
    "papermill": {
     "duration": 0.01243,
     "end_time": "2022-06-27T12:32:07.804085",
     "exception": false,
     "start_time": "2022-06-27T12:32:07.791655",
     "status": "completed"
    },
    "tags": []
   },
   "source": [
    "# Deep Learning: Telecom Customer Churn Prediction\n",
    "\n",
    "* Summary and basic information of the data\n",
    "* Replace null values and perform exploratoy data analysis\n",
    "* Transform skewed variables, categorical and binary features\n",
    "* Dimensionality reduction (PCA)\n",
    "* Make prediction using Logistic Regression, NN, CNN\n"
   ]
  },
  {
   "cell_type": "code",
   "execution_count": 1,
   "id": "5da3a612",
   "metadata": {
    "colab": {
     "base_uri": "https://localhost:8080/"
    },
    "execution": {
     "iopub.execute_input": "2022-06-27T12:32:07.829136Z",
     "iopub.status.busy": "2022-06-27T12:32:07.828268Z",
     "iopub.status.idle": "2022-06-27T12:32:19.532416Z",
     "shell.execute_reply": "2022-06-27T12:32:19.531163Z"
    },
    "id": "5da3a612",
    "outputId": "b0b5c98b-a8bb-4863-fa71-3083bbd3cb48",
    "papermill": {
     "duration": 11.719167,
     "end_time": "2022-06-27T12:32:19.534819",
     "exception": false,
     "start_time": "2022-06-27T12:32:07.815652",
     "status": "completed"
    },
    "tags": []
   },
   "outputs": [
    {
     "name": "stdout",
     "output_type": "stream",
     "text": [
      "Populating the interactive namespace from numpy and matplotlib\n"
     ]
    }
   ],
   "source": [
    "import os\n",
    "import numpy as np\n",
    "import pandas as pd\n",
    "import matplotlib.pyplot as plt\n",
    "import seaborn as sns\n",
    "from sklearn.preprocessing import LabelBinarizer, LabelEncoder, MinMaxScaler\n",
    "from sklearn.decomposition import PCA\n",
    "from sklearn.model_selection import StratifiedShuffleSplit\n",
    "from sklearn.linear_model import LogisticRegression\n",
    "import tensorflow.keras\n",
    "from tensorflow.keras.models import Sequential\n",
    "from tensorflow.keras.layers import Dense, Dropout, Activation, Flatten\n",
    "from tensorflow.keras.layers import Conv1D, MaxPooling1D\n",
    "from sklearn import metrics\n",
    "%pylab inline"
   ]
  },
  {
   "cell_type": "markdown",
   "id": "51391018",
   "metadata": {
    "id": "51391018",
    "papermill": {
     "duration": 0.012136,
     "end_time": "2022-06-27T12:32:19.558407",
     "exception": false,
     "start_time": "2022-06-27T12:32:19.546271",
     "status": "completed"
    },
    "tags": []
   },
   "source": [
    "## Data Summary"
   ]
  },
  {
   "cell_type": "code",
   "execution_count": 2,
   "id": "a06384bf",
   "metadata": {
    "execution": {
     "iopub.execute_input": "2022-06-27T12:32:19.581991Z",
     "iopub.status.busy": "2022-06-27T12:32:19.581336Z",
     "iopub.status.idle": "2022-06-27T12:32:20.043663Z",
     "shell.execute_reply": "2022-06-27T12:32:20.042820Z"
    },
    "id": "a06384bf",
    "papermill": {
     "duration": 0.47652,
     "end_time": "2022-06-27T12:32:20.045973",
     "exception": false,
     "start_time": "2022-06-27T12:32:19.569453",
     "status": "completed"
    },
    "tags": []
   },
   "outputs": [],
   "source": [
    "# load data\n",
    "data = pd.read_csv('cell2celltrain.csv')"
   ]
  },
  {
   "cell_type": "code",
   "execution_count": 3,
   "id": "19bedb74",
   "metadata": {
    "colab": {
     "base_uri": "https://localhost:8080/",
     "height": 300
    },
    "execution": {
     "iopub.execute_input": "2022-06-27T12:32:20.069248Z",
     "iopub.status.busy": "2022-06-27T12:32:20.068562Z",
     "iopub.status.idle": "2022-06-27T12:32:20.105644Z",
     "shell.execute_reply": "2022-06-27T12:32:20.104502Z"
    },
    "id": "19bedb74",
    "outputId": "68f9982c-46a5-4b7d-83cb-76452459c023",
    "papermill": {
     "duration": 0.051644,
     "end_time": "2022-06-27T12:32:20.108180",
     "exception": false,
     "start_time": "2022-06-27T12:32:20.056536",
     "status": "completed"
    },
    "scrolled": true,
    "tags": []
   },
   "outputs": [
    {
     "data": {
      "text/html": [
       "\n",
       "  <div id=\"df-48f35021-b8b2-4fc3-99aa-35c9828d3cdf\">\n",
       "    <div class=\"colab-df-container\">\n",
       "      <div>\n",
       "<style scoped>\n",
       "    .dataframe tbody tr th:only-of-type {\n",
       "        vertical-align: middle;\n",
       "    }\n",
       "\n",
       "    .dataframe tbody tr th {\n",
       "        vertical-align: top;\n",
       "    }\n",
       "\n",
       "    .dataframe thead th {\n",
       "        text-align: right;\n",
       "    }\n",
       "</style>\n",
       "<table border=\"1\" class=\"dataframe\">\n",
       "  <thead>\n",
       "    <tr style=\"text-align: right;\">\n",
       "      <th></th>\n",
       "      <th>CustomerID</th>\n",
       "      <th>Churn</th>\n",
       "      <th>MonthlyRevenue</th>\n",
       "      <th>MonthlyMinutes</th>\n",
       "      <th>TotalRecurringCharge</th>\n",
       "      <th>DirectorAssistedCalls</th>\n",
       "      <th>OverageMinutes</th>\n",
       "      <th>RoamingCalls</th>\n",
       "      <th>PercChangeMinutes</th>\n",
       "      <th>PercChangeRevenues</th>\n",
       "      <th>...</th>\n",
       "      <th>ReferralsMadeBySubscriber</th>\n",
       "      <th>IncomeGroup</th>\n",
       "      <th>OwnsMotorcycle</th>\n",
       "      <th>AdjustmentsToCreditRating</th>\n",
       "      <th>HandsetPrice</th>\n",
       "      <th>MadeCallToRetentionTeam</th>\n",
       "      <th>CreditRating</th>\n",
       "      <th>PrizmCode</th>\n",
       "      <th>Occupation</th>\n",
       "      <th>MaritalStatus</th>\n",
       "    </tr>\n",
       "  </thead>\n",
       "  <tbody>\n",
       "    <tr>\n",
       "      <th>0</th>\n",
       "      <td>3000002</td>\n",
       "      <td>Yes</td>\n",
       "      <td>24.00</td>\n",
       "      <td>219.0</td>\n",
       "      <td>22.0</td>\n",
       "      <td>0.25</td>\n",
       "      <td>0.0</td>\n",
       "      <td>0.0</td>\n",
       "      <td>-157.0</td>\n",
       "      <td>-19.0</td>\n",
       "      <td>...</td>\n",
       "      <td>0</td>\n",
       "      <td>4</td>\n",
       "      <td>No</td>\n",
       "      <td>0</td>\n",
       "      <td>30</td>\n",
       "      <td>Yes</td>\n",
       "      <td>1-Highest</td>\n",
       "      <td>Suburban</td>\n",
       "      <td>Professional</td>\n",
       "      <td>No</td>\n",
       "    </tr>\n",
       "    <tr>\n",
       "      <th>1</th>\n",
       "      <td>3000010</td>\n",
       "      <td>Yes</td>\n",
       "      <td>16.99</td>\n",
       "      <td>10.0</td>\n",
       "      <td>17.0</td>\n",
       "      <td>0.00</td>\n",
       "      <td>0.0</td>\n",
       "      <td>0.0</td>\n",
       "      <td>-4.0</td>\n",
       "      <td>0.0</td>\n",
       "      <td>...</td>\n",
       "      <td>0</td>\n",
       "      <td>5</td>\n",
       "      <td>No</td>\n",
       "      <td>0</td>\n",
       "      <td>30</td>\n",
       "      <td>No</td>\n",
       "      <td>4-Medium</td>\n",
       "      <td>Suburban</td>\n",
       "      <td>Professional</td>\n",
       "      <td>Yes</td>\n",
       "    </tr>\n",
       "    <tr>\n",
       "      <th>2</th>\n",
       "      <td>3000014</td>\n",
       "      <td>No</td>\n",
       "      <td>38.00</td>\n",
       "      <td>8.0</td>\n",
       "      <td>38.0</td>\n",
       "      <td>0.00</td>\n",
       "      <td>0.0</td>\n",
       "      <td>0.0</td>\n",
       "      <td>-2.0</td>\n",
       "      <td>0.0</td>\n",
       "      <td>...</td>\n",
       "      <td>0</td>\n",
       "      <td>6</td>\n",
       "      <td>No</td>\n",
       "      <td>0</td>\n",
       "      <td>Unknown</td>\n",
       "      <td>No</td>\n",
       "      <td>3-Good</td>\n",
       "      <td>Town</td>\n",
       "      <td>Crafts</td>\n",
       "      <td>Yes</td>\n",
       "    </tr>\n",
       "    <tr>\n",
       "      <th>3</th>\n",
       "      <td>3000022</td>\n",
       "      <td>No</td>\n",
       "      <td>82.28</td>\n",
       "      <td>1312.0</td>\n",
       "      <td>75.0</td>\n",
       "      <td>1.24</td>\n",
       "      <td>0.0</td>\n",
       "      <td>0.0</td>\n",
       "      <td>157.0</td>\n",
       "      <td>8.1</td>\n",
       "      <td>...</td>\n",
       "      <td>0</td>\n",
       "      <td>6</td>\n",
       "      <td>No</td>\n",
       "      <td>0</td>\n",
       "      <td>10</td>\n",
       "      <td>No</td>\n",
       "      <td>4-Medium</td>\n",
       "      <td>Other</td>\n",
       "      <td>Other</td>\n",
       "      <td>No</td>\n",
       "    </tr>\n",
       "    <tr>\n",
       "      <th>4</th>\n",
       "      <td>3000026</td>\n",
       "      <td>Yes</td>\n",
       "      <td>17.14</td>\n",
       "      <td>0.0</td>\n",
       "      <td>17.0</td>\n",
       "      <td>0.00</td>\n",
       "      <td>0.0</td>\n",
       "      <td>0.0</td>\n",
       "      <td>0.0</td>\n",
       "      <td>-0.2</td>\n",
       "      <td>...</td>\n",
       "      <td>0</td>\n",
       "      <td>9</td>\n",
       "      <td>No</td>\n",
       "      <td>1</td>\n",
       "      <td>10</td>\n",
       "      <td>No</td>\n",
       "      <td>1-Highest</td>\n",
       "      <td>Other</td>\n",
       "      <td>Professional</td>\n",
       "      <td>Yes</td>\n",
       "    </tr>\n",
       "  </tbody>\n",
       "</table>\n",
       "<p>5 rows × 58 columns</p>\n",
       "</div>\n",
       "      <button class=\"colab-df-convert\" onclick=\"convertToInteractive('df-48f35021-b8b2-4fc3-99aa-35c9828d3cdf')\"\n",
       "              title=\"Convert this dataframe to an interactive table.\"\n",
       "              style=\"display:none;\">\n",
       "        \n",
       "  <svg xmlns=\"http://www.w3.org/2000/svg\" height=\"24px\"viewBox=\"0 0 24 24\"\n",
       "       width=\"24px\">\n",
       "    <path d=\"M0 0h24v24H0V0z\" fill=\"none\"/>\n",
       "    <path d=\"M18.56 5.44l.94 2.06.94-2.06 2.06-.94-2.06-.94-.94-2.06-.94 2.06-2.06.94zm-11 1L8.5 8.5l.94-2.06 2.06-.94-2.06-.94L8.5 2.5l-.94 2.06-2.06.94zm10 10l.94 2.06.94-2.06 2.06-.94-2.06-.94-.94-2.06-.94 2.06-2.06.94z\"/><path d=\"M17.41 7.96l-1.37-1.37c-.4-.4-.92-.59-1.43-.59-.52 0-1.04.2-1.43.59L10.3 9.45l-7.72 7.72c-.78.78-.78 2.05 0 2.83L4 21.41c.39.39.9.59 1.41.59.51 0 1.02-.2 1.41-.59l7.78-7.78 2.81-2.81c.8-.78.8-2.07 0-2.86zM5.41 20L4 18.59l7.72-7.72 1.47 1.35L5.41 20z\"/>\n",
       "  </svg>\n",
       "      </button>\n",
       "      \n",
       "  <style>\n",
       "    .colab-df-container {\n",
       "      display:flex;\n",
       "      flex-wrap:wrap;\n",
       "      gap: 12px;\n",
       "    }\n",
       "\n",
       "    .colab-df-convert {\n",
       "      background-color: #E8F0FE;\n",
       "      border: none;\n",
       "      border-radius: 50%;\n",
       "      cursor: pointer;\n",
       "      display: none;\n",
       "      fill: #1967D2;\n",
       "      height: 32px;\n",
       "      padding: 0 0 0 0;\n",
       "      width: 32px;\n",
       "    }\n",
       "\n",
       "    .colab-df-convert:hover {\n",
       "      background-color: #E2EBFA;\n",
       "      box-shadow: 0px 1px 2px rgba(60, 64, 67, 0.3), 0px 1px 3px 1px rgba(60, 64, 67, 0.15);\n",
       "      fill: #174EA6;\n",
       "    }\n",
       "\n",
       "    [theme=dark] .colab-df-convert {\n",
       "      background-color: #3B4455;\n",
       "      fill: #D2E3FC;\n",
       "    }\n",
       "\n",
       "    [theme=dark] .colab-df-convert:hover {\n",
       "      background-color: #434B5C;\n",
       "      box-shadow: 0px 1px 3px 1px rgba(0, 0, 0, 0.15);\n",
       "      filter: drop-shadow(0px 1px 2px rgba(0, 0, 0, 0.3));\n",
       "      fill: #FFFFFF;\n",
       "    }\n",
       "  </style>\n",
       "\n",
       "      <script>\n",
       "        const buttonEl =\n",
       "          document.querySelector('#df-48f35021-b8b2-4fc3-99aa-35c9828d3cdf button.colab-df-convert');\n",
       "        buttonEl.style.display =\n",
       "          google.colab.kernel.accessAllowed ? 'block' : 'none';\n",
       "\n",
       "        async function convertToInteractive(key) {\n",
       "          const element = document.querySelector('#df-48f35021-b8b2-4fc3-99aa-35c9828d3cdf');\n",
       "          const dataTable =\n",
       "            await google.colab.kernel.invokeFunction('convertToInteractive',\n",
       "                                                     [key], {});\n",
       "          if (!dataTable) return;\n",
       "\n",
       "          const docLinkHtml = 'Like what you see? Visit the ' +\n",
       "            '<a target=\"_blank\" href=https://colab.research.google.com/notebooks/data_table.ipynb>data table notebook</a>'\n",
       "            + ' to learn more about interactive tables.';\n",
       "          element.innerHTML = '';\n",
       "          dataTable['output_type'] = 'display_data';\n",
       "          await google.colab.output.renderOutput(dataTable, element);\n",
       "          const docLink = document.createElement('div');\n",
       "          docLink.innerHTML = docLinkHtml;\n",
       "          element.appendChild(docLink);\n",
       "        }\n",
       "      </script>\n",
       "    </div>\n",
       "  </div>\n",
       "  "
      ],
      "text/plain": [
       "   CustomerID Churn  MonthlyRevenue  MonthlyMinutes  TotalRecurringCharge  \\\n",
       "0     3000002   Yes           24.00           219.0                  22.0   \n",
       "1     3000010   Yes           16.99            10.0                  17.0   \n",
       "2     3000014    No           38.00             8.0                  38.0   \n",
       "3     3000022    No           82.28          1312.0                  75.0   \n",
       "4     3000026   Yes           17.14             0.0                  17.0   \n",
       "\n",
       "   DirectorAssistedCalls  OverageMinutes  RoamingCalls  PercChangeMinutes  \\\n",
       "0                   0.25             0.0           0.0             -157.0   \n",
       "1                   0.00             0.0           0.0               -4.0   \n",
       "2                   0.00             0.0           0.0               -2.0   \n",
       "3                   1.24             0.0           0.0              157.0   \n",
       "4                   0.00             0.0           0.0                0.0   \n",
       "\n",
       "   PercChangeRevenues  ...  ReferralsMadeBySubscriber  IncomeGroup  \\\n",
       "0               -19.0  ...                          0            4   \n",
       "1                 0.0  ...                          0            5   \n",
       "2                 0.0  ...                          0            6   \n",
       "3                 8.1  ...                          0            6   \n",
       "4                -0.2  ...                          0            9   \n",
       "\n",
       "   OwnsMotorcycle  AdjustmentsToCreditRating  HandsetPrice  \\\n",
       "0              No                          0            30   \n",
       "1              No                          0            30   \n",
       "2              No                          0       Unknown   \n",
       "3              No                          0            10   \n",
       "4              No                          1            10   \n",
       "\n",
       "   MadeCallToRetentionTeam  CreditRating  PrizmCode    Occupation  \\\n",
       "0                      Yes     1-Highest   Suburban  Professional   \n",
       "1                       No      4-Medium   Suburban  Professional   \n",
       "2                       No        3-Good       Town        Crafts   \n",
       "3                       No      4-Medium      Other         Other   \n",
       "4                       No     1-Highest      Other  Professional   \n",
       "\n",
       "   MaritalStatus  \n",
       "0             No  \n",
       "1            Yes  \n",
       "2            Yes  \n",
       "3             No  \n",
       "4            Yes  \n",
       "\n",
       "[5 rows x 58 columns]"
      ]
     },
     "execution_count": 3,
     "metadata": {},
     "output_type": "execute_result"
    }
   ],
   "source": [
    "data.head()"
   ]
  },
  {
   "cell_type": "code",
   "execution_count": 4,
   "id": "cf0f81e1",
   "metadata": {
    "colab": {
     "base_uri": "https://localhost:8080/"
    },
    "execution": {
     "iopub.execute_input": "2022-06-27T12:32:20.132557Z",
     "iopub.status.busy": "2022-06-27T12:32:20.131396Z",
     "iopub.status.idle": "2022-06-27T12:32:20.139216Z",
     "shell.execute_reply": "2022-06-27T12:32:20.138014Z"
    },
    "id": "cf0f81e1",
    "outputId": "44eedba2-b271-4f61-8cbb-de497a233a16",
    "papermill": {
     "duration": 0.022374,
     "end_time": "2022-06-27T12:32:20.141464",
     "exception": false,
     "start_time": "2022-06-27T12:32:20.119090",
     "status": "completed"
    },
    "tags": []
   },
   "outputs": [
    {
     "data": {
      "text/plain": [
       "Index(['CustomerID', 'Churn', 'MonthlyRevenue', 'MonthlyMinutes',\n",
       "       'TotalRecurringCharge', 'DirectorAssistedCalls', 'OverageMinutes',\n",
       "       'RoamingCalls', 'PercChangeMinutes', 'PercChangeRevenues',\n",
       "       'DroppedCalls', 'BlockedCalls', 'UnansweredCalls', 'CustomerCareCalls',\n",
       "       'ThreewayCalls', 'ReceivedCalls', 'OutboundCalls', 'InboundCalls',\n",
       "       'PeakCallsInOut', 'OffPeakCallsInOut', 'DroppedBlockedCalls',\n",
       "       'CallForwardingCalls', 'CallWaitingCalls', 'MonthsInService',\n",
       "       'UniqueSubs', 'ActiveSubs', 'ServiceArea', 'Handsets', 'HandsetModels',\n",
       "       'CurrentEquipmentDays', 'AgeHH1', 'AgeHH2', 'ChildrenInHH',\n",
       "       'HandsetRefurbished', 'HandsetWebCapable', 'TruckOwner', 'RVOwner',\n",
       "       'Homeownership', 'BuysViaMailOrder', 'RespondsToMailOffers',\n",
       "       'OptOutMailings', 'NonUSTravel', 'OwnsComputer', 'HasCreditCard',\n",
       "       'RetentionCalls', 'RetentionOffersAccepted', 'NewCellphoneUser',\n",
       "       'NotNewCellphoneUser', 'ReferralsMadeBySubscriber', 'IncomeGroup',\n",
       "       'OwnsMotorcycle', 'AdjustmentsToCreditRating', 'HandsetPrice',\n",
       "       'MadeCallToRetentionTeam', 'CreditRating', 'PrizmCode', 'Occupation',\n",
       "       'MaritalStatus'],\n",
       "      dtype='object')"
      ]
     },
     "execution_count": 4,
     "metadata": {},
     "output_type": "execute_result"
    }
   ],
   "source": [
    "data.columns"
   ]
  },
  {
   "cell_type": "code",
   "execution_count": 5,
   "id": "b103e596",
   "metadata": {
    "colab": {
     "base_uri": "https://localhost:8080/"
    },
    "execution": {
     "iopub.execute_input": "2022-06-27T12:32:20.165566Z",
     "iopub.status.busy": "2022-06-27T12:32:20.164812Z",
     "iopub.status.idle": "2022-06-27T12:32:20.244361Z",
     "shell.execute_reply": "2022-06-27T12:32:20.243213Z"
    },
    "id": "b103e596",
    "outputId": "2b9194b1-4c02-4c6c-e7fc-72386c7ae3a8",
    "papermill": {
     "duration": 0.094328,
     "end_time": "2022-06-27T12:32:20.246697",
     "exception": false,
     "start_time": "2022-06-27T12:32:20.152369",
     "status": "completed"
    },
    "tags": []
   },
   "outputs": [
    {
     "name": "stdout",
     "output_type": "stream",
     "text": [
      "<class 'pandas.core.frame.DataFrame'>\n",
      "RangeIndex: 51047 entries, 0 to 51046\n",
      "Data columns (total 58 columns):\n",
      " #   Column                     Non-Null Count  Dtype  \n",
      "---  ------                     --------------  -----  \n",
      " 0   CustomerID                 51047 non-null  int64  \n",
      " 1   Churn                      51047 non-null  object \n",
      " 2   MonthlyRevenue             50891 non-null  float64\n",
      " 3   MonthlyMinutes             50891 non-null  float64\n",
      " 4   TotalRecurringCharge       50891 non-null  float64\n",
      " 5   DirectorAssistedCalls      50891 non-null  float64\n",
      " 6   OverageMinutes             50891 non-null  float64\n",
      " 7   RoamingCalls               50891 non-null  float64\n",
      " 8   PercChangeMinutes          50680 non-null  float64\n",
      " 9   PercChangeRevenues         50680 non-null  float64\n",
      " 10  DroppedCalls               51047 non-null  float64\n",
      " 11  BlockedCalls               51047 non-null  float64\n",
      " 12  UnansweredCalls            51047 non-null  float64\n",
      " 13  CustomerCareCalls          51047 non-null  float64\n",
      " 14  ThreewayCalls              51047 non-null  float64\n",
      " 15  ReceivedCalls              51047 non-null  float64\n",
      " 16  OutboundCalls              51047 non-null  float64\n",
      " 17  InboundCalls               51047 non-null  float64\n",
      " 18  PeakCallsInOut             51047 non-null  float64\n",
      " 19  OffPeakCallsInOut          51047 non-null  float64\n",
      " 20  DroppedBlockedCalls        51047 non-null  float64\n",
      " 21  CallForwardingCalls        51047 non-null  float64\n",
      " 22  CallWaitingCalls           51047 non-null  float64\n",
      " 23  MonthsInService            51047 non-null  int64  \n",
      " 24  UniqueSubs                 51047 non-null  int64  \n",
      " 25  ActiveSubs                 51047 non-null  int64  \n",
      " 26  ServiceArea                51023 non-null  object \n",
      " 27  Handsets                   51046 non-null  float64\n",
      " 28  HandsetModels              51046 non-null  float64\n",
      " 29  CurrentEquipmentDays       51046 non-null  float64\n",
      " 30  AgeHH1                     50138 non-null  float64\n",
      " 31  AgeHH2                     50138 non-null  float64\n",
      " 32  ChildrenInHH               51047 non-null  object \n",
      " 33  HandsetRefurbished         51047 non-null  object \n",
      " 34  HandsetWebCapable          51047 non-null  object \n",
      " 35  TruckOwner                 51047 non-null  object \n",
      " 36  RVOwner                    51047 non-null  object \n",
      " 37  Homeownership              51047 non-null  object \n",
      " 38  BuysViaMailOrder           51047 non-null  object \n",
      " 39  RespondsToMailOffers       51047 non-null  object \n",
      " 40  OptOutMailings             51047 non-null  object \n",
      " 41  NonUSTravel                51047 non-null  object \n",
      " 42  OwnsComputer               51047 non-null  object \n",
      " 43  HasCreditCard              51047 non-null  object \n",
      " 44  RetentionCalls             51047 non-null  int64  \n",
      " 45  RetentionOffersAccepted    51047 non-null  int64  \n",
      " 46  NewCellphoneUser           51047 non-null  object \n",
      " 47  NotNewCellphoneUser        51047 non-null  object \n",
      " 48  ReferralsMadeBySubscriber  51047 non-null  int64  \n",
      " 49  IncomeGroup                51047 non-null  int64  \n",
      " 50  OwnsMotorcycle             51047 non-null  object \n",
      " 51  AdjustmentsToCreditRating  51047 non-null  int64  \n",
      " 52  HandsetPrice               51047 non-null  object \n",
      " 53  MadeCallToRetentionTeam    51047 non-null  object \n",
      " 54  CreditRating               51047 non-null  object \n",
      " 55  PrizmCode                  51047 non-null  object \n",
      " 56  Occupation                 51047 non-null  object \n",
      " 57  MaritalStatus              51047 non-null  object \n",
      "dtypes: float64(26), int64(9), object(23)\n",
      "memory usage: 22.6+ MB\n"
     ]
    }
   ],
   "source": [
    "data.info()"
   ]
  },
  {
   "cell_type": "code",
   "execution_count": 6,
   "id": "2ba5b579",
   "metadata": {
    "colab": {
     "base_uri": "https://localhost:8080/"
    },
    "execution": {
     "iopub.execute_input": "2022-06-27T12:32:20.270773Z",
     "iopub.status.busy": "2022-06-27T12:32:20.269714Z",
     "iopub.status.idle": "2022-06-27T12:32:20.338053Z",
     "shell.execute_reply": "2022-06-27T12:32:20.336922Z"
    },
    "id": "2ba5b579",
    "outputId": "db29cef9-5152-493d-8663-78e22ca75f1f",
    "papermill": {
     "duration": 0.082718,
     "end_time": "2022-06-27T12:32:20.340289",
     "exception": false,
     "start_time": "2022-06-27T12:32:20.257571",
     "status": "completed"
    },
    "scrolled": true,
    "tags": []
   },
   "outputs": [
    {
     "data": {
      "text/plain": [
       "MonthlyRevenue           156\n",
       "MonthlyMinutes           156\n",
       "TotalRecurringCharge     156\n",
       "DirectorAssistedCalls    156\n",
       "OverageMinutes           156\n",
       "RoamingCalls             156\n",
       "PercChangeMinutes        367\n",
       "PercChangeRevenues       367\n",
       "ServiceArea               24\n",
       "Handsets                   1\n",
       "HandsetModels              1\n",
       "CurrentEquipmentDays       1\n",
       "AgeHH1                   909\n",
       "AgeHH2                   909\n",
       "dtype: int64"
      ]
     },
     "execution_count": 6,
     "metadata": {},
     "output_type": "execute_result"
    }
   ],
   "source": [
    "# number of missing value\n",
    "na_cols = data.columns[data.isnull().sum() != 0]\n",
    "data[na_cols].isnull().sum()"
   ]
  },
  {
   "cell_type": "code",
   "execution_count": 7,
   "id": "16ea872b",
   "metadata": {
    "colab": {
     "base_uri": "https://localhost:8080/"
    },
    "execution": {
     "iopub.execute_input": "2022-06-27T12:32:20.364299Z",
     "iopub.status.busy": "2022-06-27T12:32:20.363662Z",
     "iopub.status.idle": "2022-06-27T12:32:20.377608Z",
     "shell.execute_reply": "2022-06-27T12:32:20.376756Z"
    },
    "id": "16ea872b",
    "outputId": "62ba721a-2f74-49a4-8cfa-c6cbd8d04f78",
    "papermill": {
     "duration": 0.028289,
     "end_time": "2022-06-27T12:32:20.379599",
     "exception": false,
     "start_time": "2022-06-27T12:32:20.351310",
     "status": "completed"
    },
    "tags": []
   },
   "outputs": [
    {
     "data": {
      "text/plain": [
       "3515"
      ]
     },
     "execution_count": 7,
     "metadata": {},
     "output_type": "execute_result"
    }
   ],
   "source": [
    "data[na_cols].isnull().sum().sum()"
   ]
  },
  {
   "cell_type": "code",
   "execution_count": 8,
   "id": "a1b891dd",
   "metadata": {
    "colab": {
     "base_uri": "https://localhost:8080/",
     "height": 279
    },
    "execution": {
     "iopub.execute_input": "2022-06-27T12:32:20.403668Z",
     "iopub.status.busy": "2022-06-27T12:32:20.402977Z",
     "iopub.status.idle": "2022-06-27T12:32:20.629654Z",
     "shell.execute_reply": "2022-06-27T12:32:20.628527Z"
    },
    "id": "a1b891dd",
    "outputId": "31226bb1-3c02-45d8-e743-6b4d8c061dfb",
    "papermill": {
     "duration": 0.241275,
     "end_time": "2022-06-27T12:32:20.631816",
     "exception": false,
     "start_time": "2022-06-27T12:32:20.390541",
     "status": "completed"
    },
    "tags": []
   },
   "outputs": [
    {
     "data": {
      "image/png": "[encoded data removed]",
      "text/plain": [
       "<Figure size 432x288 with 1 Axes>"
      ]
     },
     "metadata": {
      "needs_background": "light"
     },
     "output_type": "display_data"
    }
   ],
   "source": [
    "data.Churn.hist();\n",
    "plt.xlabel('Churn');\n",
    "plt.ylabel('Frequency');"
   ]
  },
  {
   "cell_type": "code",
   "execution_count": 9,
   "id": "756cea05",
   "metadata": {
    "colab": {
     "base_uri": "https://localhost:8080/"
    },
    "execution": {
     "iopub.execute_input": "2022-06-27T12:32:20.656670Z",
     "iopub.status.busy": "2022-06-27T12:32:20.655901Z",
     "iopub.status.idle": "2022-06-27T12:32:20.668163Z",
     "shell.execute_reply": "2022-06-27T12:32:20.667014Z"
    },
    "id": "756cea05",
    "outputId": "bde3e4ad-662e-4e1d-da6c-e5269dafe3ad",
    "papermill": {
     "duration": 0.027094,
     "end_time": "2022-06-27T12:32:20.670299",
     "exception": false,
     "start_time": "2022-06-27T12:32:20.643205",
     "status": "completed"
    },
    "tags": []
   },
   "outputs": [
    {
     "data": {
      "text/plain": [
       "No     0.711815\n",
       "Yes    0.288185\n",
       "Name: Churn, dtype: float64"
      ]
     },
     "execution_count": 9,
     "metadata": {},
     "output_type": "execute_result"
    }
   ],
   "source": [
    "data.Churn.value_counts(normalize = True)"
   ]
  },
  {
   "cell_type": "markdown",
   "id": "26e56ab0",
   "metadata": {
    "id": "26e56ab0",
    "papermill": {
     "duration": 0.011558,
     "end_time": "2022-06-27T12:32:20.693919",
     "exception": false,
     "start_time": "2022-06-27T12:32:20.682361",
     "status": "completed"
    },
    "tags": []
   },
   "source": [
    "## Data Cleaning and EDA"
   ]
  },
  {
   "cell_type": "code",
   "execution_count": 10,
   "id": "03cb362a",
   "metadata": {
    "execution": {
     "iopub.execute_input": "2022-06-27T12:32:20.719649Z",
     "iopub.status.busy": "2022-06-27T12:32:20.718825Z",
     "iopub.status.idle": "2022-06-27T12:32:20.735557Z",
     "shell.execute_reply": "2022-06-27T12:32:20.734248Z"
    },
    "id": "03cb362a",
    "papermill": {
     "duration": 0.03239,
     "end_time": "2022-06-27T12:32:20.738090",
     "exception": false,
     "start_time": "2022-06-27T12:32:20.705700",
     "status": "completed"
    },
    "tags": []
   },
   "outputs": [],
   "source": [
    "# drop customer ID and service area\n",
    "data.drop(columns = ['CustomerID', 'ServiceArea'], inplace = True)"
   ]
  },
  {
   "cell_type": "code",
   "execution_count": 11,
   "id": "1a2a76be",
   "metadata": {
    "execution": {
     "iopub.execute_input": "2022-06-27T12:32:20.763410Z",
     "iopub.status.busy": "2022-06-27T12:32:20.762686Z",
     "iopub.status.idle": "2022-06-27T12:32:20.772280Z",
     "shell.execute_reply": "2022-06-27T12:32:20.771221Z"
    },
    "id": "1a2a76be",
    "papermill": {
     "duration": 0.025083,
     "end_time": "2022-06-27T12:32:20.774719",
     "exception": false,
     "start_time": "2022-06-27T12:32:20.749636",
     "status": "completed"
    },
    "tags": []
   },
   "outputs": [],
   "source": [
    "# replace missing values in numerical columns with 0\n",
    "for col in na_cols:\n",
    "    if col != 'ServiceArea':\n",
    "        data[col].fillna(0, inplace = True)"
   ]
  },
  {
   "cell_type": "code",
   "execution_count": 12,
   "id": "3131af8c",
   "metadata": {
    "execution": {
     "iopub.execute_input": "2022-06-27T12:32:20.800336Z",
     "iopub.status.busy": "2022-06-27T12:32:20.799606Z",
     "iopub.status.idle": "2022-06-27T12:32:20.805491Z",
     "shell.execute_reply": "2022-06-27T12:32:20.804767Z"
    },
    "id": "3131af8c",
    "papermill": {
     "duration": 0.021194,
     "end_time": "2022-06-27T12:32:20.807552",
     "exception": false,
     "start_time": "2022-06-27T12:32:20.786358",
     "status": "completed"
    },
    "tags": []
   },
   "outputs": [],
   "source": [
    "# numerical columns and non-numerical columns\n",
    "num_cols = data.columns[data.dtypes != 'object']\n",
    "obj_cols = data.columns[data.dtypes == 'object']"
   ]
  },
  {
   "cell_type": "code",
   "execution_count": 13,
   "id": "e377cd67",
   "metadata": {
    "colab": {
     "base_uri": "https://localhost:8080/"
    },
    "execution": {
     "iopub.execute_input": "2022-06-27T12:32:20.832832Z",
     "iopub.status.busy": "2022-06-27T12:32:20.832144Z",
     "iopub.status.idle": "2022-06-27T12:32:20.838958Z",
     "shell.execute_reply": "2022-06-27T12:32:20.838112Z"
    },
    "id": "e377cd67",
    "outputId": "cf4c1c05-2bb3-409e-b200-905a5e7ee0ba",
    "papermill": {
     "duration": 0.021929,
     "end_time": "2022-06-27T12:32:20.841002",
     "exception": false,
     "start_time": "2022-06-27T12:32:20.819073",
     "status": "completed"
    },
    "scrolled": true,
    "tags": []
   },
   "outputs": [
    {
     "data": {
      "text/plain": [
       "Index(['MonthlyRevenue', 'MonthlyMinutes', 'TotalRecurringCharge',\n",
       "       'DirectorAssistedCalls', 'OverageMinutes', 'RoamingCalls',\n",
       "       'PercChangeMinutes', 'PercChangeRevenues', 'DroppedCalls',\n",
       "       'BlockedCalls', 'UnansweredCalls', 'CustomerCareCalls', 'ThreewayCalls',\n",
       "       'ReceivedCalls', 'OutboundCalls', 'InboundCalls', 'PeakCallsInOut',\n",
       "       'OffPeakCallsInOut', 'DroppedBlockedCalls', 'CallForwardingCalls',\n",
       "       'CallWaitingCalls', 'MonthsInService', 'UniqueSubs', 'ActiveSubs',\n",
       "       'Handsets', 'HandsetModels', 'CurrentEquipmentDays', 'AgeHH1', 'AgeHH2',\n",
       "       'RetentionCalls', 'RetentionOffersAccepted',\n",
       "       'ReferralsMadeBySubscriber', 'IncomeGroup',\n",
       "       'AdjustmentsToCreditRating'],\n",
       "      dtype='object')"
      ]
     },
     "execution_count": 13,
     "metadata": {},
     "output_type": "execute_result"
    }
   ],
   "source": [
    "num_cols"
   ]
  },
  {
   "cell_type": "markdown",
   "id": "5c31ca49",
   "metadata": {
    "id": "5c31ca49",
    "papermill": {
     "duration": 0.011459,
     "end_time": "2022-06-27T12:32:20.864203",
     "exception": false,
     "start_time": "2022-06-27T12:32:20.852744",
     "status": "completed"
    },
    "tags": []
   },
   "source": [
    "### Numerical Features"
   ]
  },
  {
   "cell_type": "code",
   "execution_count": 14,
   "id": "75891d13",
   "metadata": {
    "colab": {
     "base_uri": "https://localhost:8080/",
     "height": 0
    },
    "execution": {
     "iopub.execute_input": "2022-06-27T12:32:20.889672Z",
     "iopub.status.busy": "2022-06-27T12:32:20.888952Z",
     "iopub.status.idle": "2022-06-27T12:32:21.047819Z",
     "shell.execute_reply": "2022-06-27T12:32:21.046766Z"
    },
    "id": "75891d13",
    "outputId": "b97e6b0f-f753-482c-b3cc-bd50710acf8f",
    "papermill": {
     "duration": 0.180037,
     "end_time": "2022-06-27T12:32:21.055986",
     "exception": false,
     "start_time": "2022-06-27T12:32:20.875949",
     "status": "completed"
    },
    "tags": []
   },
   "outputs": [
    {
     "data": {
      "text/html": [
       "\n",
       "  <div id=\"df-7a8769ad-9ad3-4809-8b95-e2b1390e9ab9\">\n",
       "    <div class=\"colab-df-container\">\n",
       "      <div>\n",
       "<style scoped>\n",
       "    .dataframe tbody tr th:only-of-type {\n",
       "        vertical-align: middle;\n",
       "    }\n",
       "\n",
       "    .dataframe tbody tr th {\n",
       "        vertical-align: top;\n",
       "    }\n",
       "\n",
       "    .dataframe thead th {\n",
       "        text-align: right;\n",
       "    }\n",
       "</style>\n",
       "<table border=\"1\" class=\"dataframe\">\n",
       "  <thead>\n",
       "    <tr style=\"text-align: right;\">\n",
       "      <th></th>\n",
       "      <th>count</th>\n",
       "      <th>mean</th>\n",
       "      <th>std</th>\n",
       "      <th>min</th>\n",
       "      <th>25%</th>\n",
       "      <th>50%</th>\n",
       "      <th>75%</th>\n",
       "      <th>max</th>\n",
       "    </tr>\n",
       "  </thead>\n",
       "  <tbody>\n",
       "    <tr>\n",
       "      <th>MonthlyRevenue</th>\n",
       "      <td>51047.0</td>\n",
       "      <td>58.654694</td>\n",
       "      <td>44.557776</td>\n",
       "      <td>-6.17</td>\n",
       "      <td>33.5</td>\n",
       "      <td>48.29</td>\n",
       "      <td>70.96</td>\n",
       "      <td>1223.38</td>\n",
       "    </tr>\n",
       "    <tr>\n",
       "      <th>MonthlyMinutes</th>\n",
       "      <td>51047.0</td>\n",
       "      <td>524.047015</td>\n",
       "      <td>529.855789</td>\n",
       "      <td>0.00</td>\n",
       "      <td>156.0</td>\n",
       "      <td>365.00</td>\n",
       "      <td>722.00</td>\n",
       "      <td>7359.00</td>\n",
       "    </tr>\n",
       "    <tr>\n",
       "      <th>TotalRecurringCharge</th>\n",
       "      <td>51047.0</td>\n",
       "      <td>46.686975</td>\n",
       "      <td>23.952288</td>\n",
       "      <td>-11.00</td>\n",
       "      <td>30.0</td>\n",
       "      <td>45.00</td>\n",
       "      <td>60.00</td>\n",
       "      <td>400.00</td>\n",
       "    </tr>\n",
       "    <tr>\n",
       "      <th>DirectorAssistedCalls</th>\n",
       "      <td>51047.0</td>\n",
       "      <td>0.892493</td>\n",
       "      <td>2.225687</td>\n",
       "      <td>0.00</td>\n",
       "      <td>0.0</td>\n",
       "      <td>0.25</td>\n",
       "      <td>0.99</td>\n",
       "      <td>159.39</td>\n",
       "    </tr>\n",
       "    <tr>\n",
       "      <th>OverageMinutes</th>\n",
       "      <td>51047.0</td>\n",
       "      <td>39.905460</td>\n",
       "      <td>96.465678</td>\n",
       "      <td>0.00</td>\n",
       "      <td>0.0</td>\n",
       "      <td>2.00</td>\n",
       "      <td>40.00</td>\n",
       "      <td>4321.00</td>\n",
       "    </tr>\n",
       "    <tr>\n",
       "      <th>RoamingCalls</th>\n",
       "      <td>51047.0</td>\n",
       "      <td>1.232466</td>\n",
       "      <td>9.803517</td>\n",
       "      <td>0.00</td>\n",
       "      <td>0.0</td>\n",
       "      <td>0.00</td>\n",
       "      <td>0.20</td>\n",
       "      <td>1112.40</td>\n",
       "    </tr>\n",
       "    <tr>\n",
       "      <th>PercChangeMinutes</th>\n",
       "      <td>51047.0</td>\n",
       "      <td>-11.464885</td>\n",
       "      <td>256.589244</td>\n",
       "      <td>-3875.00</td>\n",
       "      <td>-82.0</td>\n",
       "      <td>-4.00</td>\n",
       "      <td>65.00</td>\n",
       "      <td>5192.00</td>\n",
       "    </tr>\n",
       "    <tr>\n",
       "      <th>PercChangeRevenues</th>\n",
       "      <td>51047.0</td>\n",
       "      <td>-1.183415</td>\n",
       "      <td>39.432523</td>\n",
       "      <td>-1107.70</td>\n",
       "      <td>-6.9</td>\n",
       "      <td>-0.30</td>\n",
       "      <td>1.55</td>\n",
       "      <td>2483.50</td>\n",
       "    </tr>\n",
       "    <tr>\n",
       "      <th>DroppedCalls</th>\n",
       "      <td>51047.0</td>\n",
       "      <td>6.011489</td>\n",
       "      <td>9.043955</td>\n",
       "      <td>0.00</td>\n",
       "      <td>0.7</td>\n",
       "      <td>3.00</td>\n",
       "      <td>7.70</td>\n",
       "      <td>221.70</td>\n",
       "    </tr>\n",
       "    <tr>\n",
       "      <th>BlockedCalls</th>\n",
       "      <td>51047.0</td>\n",
       "      <td>4.085672</td>\n",
       "      <td>10.946905</td>\n",
       "      <td>0.00</td>\n",
       "      <td>0.0</td>\n",
       "      <td>1.00</td>\n",
       "      <td>3.70</td>\n",
       "      <td>384.30</td>\n",
       "    </tr>\n",
       "    <tr>\n",
       "      <th>UnansweredCalls</th>\n",
       "      <td>51047.0</td>\n",
       "      <td>28.288981</td>\n",
       "      <td>38.876194</td>\n",
       "      <td>0.00</td>\n",
       "      <td>5.3</td>\n",
       "      <td>16.30</td>\n",
       "      <td>36.30</td>\n",
       "      <td>848.70</td>\n",
       "    </tr>\n",
       "    <tr>\n",
       "      <th>CustomerCareCalls</th>\n",
       "      <td>51047.0</td>\n",
       "      <td>1.868999</td>\n",
       "      <td>5.096138</td>\n",
       "      <td>0.00</td>\n",
       "      <td>0.0</td>\n",
       "      <td>0.00</td>\n",
       "      <td>1.70</td>\n",
       "      <td>327.30</td>\n",
       "    </tr>\n",
       "    <tr>\n",
       "      <th>ThreewayCalls</th>\n",
       "      <td>51047.0</td>\n",
       "      <td>0.298838</td>\n",
       "      <td>1.168277</td>\n",
       "      <td>0.00</td>\n",
       "      <td>0.0</td>\n",
       "      <td>0.00</td>\n",
       "      <td>0.30</td>\n",
       "      <td>66.00</td>\n",
       "    </tr>\n",
       "    <tr>\n",
       "      <th>ReceivedCalls</th>\n",
       "      <td>51047.0</td>\n",
       "      <td>114.800121</td>\n",
       "      <td>166.485896</td>\n",
       "      <td>0.00</td>\n",
       "      <td>8.3</td>\n",
       "      <td>52.80</td>\n",
       "      <td>153.50</td>\n",
       "      <td>2692.40</td>\n",
       "    </tr>\n",
       "    <tr>\n",
       "      <th>OutboundCalls</th>\n",
       "      <td>51047.0</td>\n",
       "      <td>25.377715</td>\n",
       "      <td>35.209147</td>\n",
       "      <td>0.00</td>\n",
       "      <td>3.3</td>\n",
       "      <td>13.70</td>\n",
       "      <td>34.00</td>\n",
       "      <td>644.30</td>\n",
       "    </tr>\n",
       "    <tr>\n",
       "      <th>InboundCalls</th>\n",
       "      <td>51047.0</td>\n",
       "      <td>8.178104</td>\n",
       "      <td>16.665878</td>\n",
       "      <td>0.00</td>\n",
       "      <td>0.0</td>\n",
       "      <td>2.00</td>\n",
       "      <td>9.30</td>\n",
       "      <td>519.30</td>\n",
       "    </tr>\n",
       "    <tr>\n",
       "      <th>PeakCallsInOut</th>\n",
       "      <td>51047.0</td>\n",
       "      <td>90.549515</td>\n",
       "      <td>104.947470</td>\n",
       "      <td>0.00</td>\n",
       "      <td>23.0</td>\n",
       "      <td>62.00</td>\n",
       "      <td>121.30</td>\n",
       "      <td>2090.70</td>\n",
       "    </tr>\n",
       "    <tr>\n",
       "      <th>OffPeakCallsInOut</th>\n",
       "      <td>51047.0</td>\n",
       "      <td>67.650790</td>\n",
       "      <td>92.752699</td>\n",
       "      <td>0.00</td>\n",
       "      <td>11.0</td>\n",
       "      <td>35.70</td>\n",
       "      <td>88.70</td>\n",
       "      <td>1474.70</td>\n",
       "    </tr>\n",
       "    <tr>\n",
       "      <th>DroppedBlockedCalls</th>\n",
       "      <td>51047.0</td>\n",
       "      <td>10.158003</td>\n",
       "      <td>15.555284</td>\n",
       "      <td>0.00</td>\n",
       "      <td>1.7</td>\n",
       "      <td>5.30</td>\n",
       "      <td>12.30</td>\n",
       "      <td>411.70</td>\n",
       "    </tr>\n",
       "    <tr>\n",
       "      <th>CallForwardingCalls</th>\n",
       "      <td>51047.0</td>\n",
       "      <td>0.012277</td>\n",
       "      <td>0.594168</td>\n",
       "      <td>0.00</td>\n",
       "      <td>0.0</td>\n",
       "      <td>0.00</td>\n",
       "      <td>0.00</td>\n",
       "      <td>81.30</td>\n",
       "    </tr>\n",
       "    <tr>\n",
       "      <th>CallWaitingCalls</th>\n",
       "      <td>51047.0</td>\n",
       "      <td>1.840504</td>\n",
       "      <td>5.585129</td>\n",
       "      <td>0.00</td>\n",
       "      <td>0.0</td>\n",
       "      <td>0.30</td>\n",
       "      <td>1.30</td>\n",
       "      <td>212.70</td>\n",
       "    </tr>\n",
       "    <tr>\n",
       "      <th>MonthsInService</th>\n",
       "      <td>51047.0</td>\n",
       "      <td>18.756264</td>\n",
       "      <td>9.800138</td>\n",
       "      <td>6.00</td>\n",
       "      <td>11.0</td>\n",
       "      <td>16.00</td>\n",
       "      <td>24.00</td>\n",
       "      <td>61.00</td>\n",
       "    </tr>\n",
       "    <tr>\n",
       "      <th>UniqueSubs</th>\n",
       "      <td>51047.0</td>\n",
       "      <td>1.532157</td>\n",
       "      <td>1.223384</td>\n",
       "      <td>1.00</td>\n",
       "      <td>1.0</td>\n",
       "      <td>1.00</td>\n",
       "      <td>2.00</td>\n",
       "      <td>196.00</td>\n",
       "    </tr>\n",
       "    <tr>\n",
       "      <th>ActiveSubs</th>\n",
       "      <td>51047.0</td>\n",
       "      <td>1.354340</td>\n",
       "      <td>0.675477</td>\n",
       "      <td>0.00</td>\n",
       "      <td>1.0</td>\n",
       "      <td>1.00</td>\n",
       "      <td>2.00</td>\n",
       "      <td>53.00</td>\n",
       "    </tr>\n",
       "    <tr>\n",
       "      <th>Handsets</th>\n",
       "      <td>51047.0</td>\n",
       "      <td>1.805611</td>\n",
       "      <td>1.331184</td>\n",
       "      <td>0.00</td>\n",
       "      <td>1.0</td>\n",
       "      <td>1.00</td>\n",
       "      <td>2.00</td>\n",
       "      <td>24.00</td>\n",
       "    </tr>\n",
       "    <tr>\n",
       "      <th>HandsetModels</th>\n",
       "      <td>51047.0</td>\n",
       "      <td>1.558720</td>\n",
       "      <td>0.905950</td>\n",
       "      <td>0.00</td>\n",
       "      <td>1.0</td>\n",
       "      <td>1.00</td>\n",
       "      <td>2.00</td>\n",
       "      <td>15.00</td>\n",
       "    </tr>\n",
       "    <tr>\n",
       "      <th>CurrentEquipmentDays</th>\n",
       "      <td>51047.0</td>\n",
       "      <td>380.538386</td>\n",
       "      <td>253.805085</td>\n",
       "      <td>-5.00</td>\n",
       "      <td>205.0</td>\n",
       "      <td>329.00</td>\n",
       "      <td>515.00</td>\n",
       "      <td>1812.00</td>\n",
       "    </tr>\n",
       "    <tr>\n",
       "      <th>AgeHH1</th>\n",
       "      <td>51047.0</td>\n",
       "      <td>30.780085</td>\n",
       "      <td>22.285796</td>\n",
       "      <td>0.00</td>\n",
       "      <td>0.0</td>\n",
       "      <td>36.00</td>\n",
       "      <td>48.00</td>\n",
       "      <td>99.00</td>\n",
       "    </tr>\n",
       "    <tr>\n",
       "      <th>AgeHH2</th>\n",
       "      <td>51047.0</td>\n",
       "      <td>20.767626</td>\n",
       "      <td>23.881611</td>\n",
       "      <td>0.00</td>\n",
       "      <td>0.0</td>\n",
       "      <td>0.00</td>\n",
       "      <td>42.00</td>\n",
       "      <td>99.00</td>\n",
       "    </tr>\n",
       "    <tr>\n",
       "      <th>RetentionCalls</th>\n",
       "      <td>51047.0</td>\n",
       "      <td>0.037201</td>\n",
       "      <td>0.206483</td>\n",
       "      <td>0.00</td>\n",
       "      <td>0.0</td>\n",
       "      <td>0.00</td>\n",
       "      <td>0.00</td>\n",
       "      <td>4.00</td>\n",
       "    </tr>\n",
       "    <tr>\n",
       "      <th>RetentionOffersAccepted</th>\n",
       "      <td>51047.0</td>\n",
       "      <td>0.018277</td>\n",
       "      <td>0.142458</td>\n",
       "      <td>0.00</td>\n",
       "      <td>0.0</td>\n",
       "      <td>0.00</td>\n",
       "      <td>0.00</td>\n",
       "      <td>3.00</td>\n",
       "    </tr>\n",
       "    <tr>\n",
       "      <th>ReferralsMadeBySubscriber</th>\n",
       "      <td>51047.0</td>\n",
       "      <td>0.052070</td>\n",
       "      <td>0.307592</td>\n",
       "      <td>0.00</td>\n",
       "      <td>0.0</td>\n",
       "      <td>0.00</td>\n",
       "      <td>0.00</td>\n",
       "      <td>35.00</td>\n",
       "    </tr>\n",
       "    <tr>\n",
       "      <th>IncomeGroup</th>\n",
       "      <td>51047.0</td>\n",
       "      <td>4.324524</td>\n",
       "      <td>3.138236</td>\n",
       "      <td>0.00</td>\n",
       "      <td>0.0</td>\n",
       "      <td>5.00</td>\n",
       "      <td>7.00</td>\n",
       "      <td>9.00</td>\n",
       "    </tr>\n",
       "    <tr>\n",
       "      <th>AdjustmentsToCreditRating</th>\n",
       "      <td>51047.0</td>\n",
       "      <td>0.053911</td>\n",
       "      <td>0.383147</td>\n",
       "      <td>0.00</td>\n",
       "      <td>0.0</td>\n",
       "      <td>0.00</td>\n",
       "      <td>0.00</td>\n",
       "      <td>25.00</td>\n",
       "    </tr>\n",
       "  </tbody>\n",
       "</table>\n",
       "</div>\n",
       "      <button class=\"colab-df-convert\" onclick=\"convertToInteractive('df-7a8769ad-9ad3-4809-8b95-e2b1390e9ab9')\"\n",
       "              title=\"Convert this dataframe to an interactive table.\"\n",
       "              style=\"display:none;\">\n",
       "        \n",
       "  <svg xmlns=\"http://www.w3.org/2000/svg\" height=\"24px\"viewBox=\"0 0 24 24\"\n",
       "       width=\"24px\">\n",
       "    <path d=\"M0 0h24v24H0V0z\" fill=\"none\"/>\n",
       "    <path d=\"M18.56 5.44l.94 2.06.94-2.06 2.06-.94-2.06-.94-.94-2.06-.94 2.06-2.06.94zm-11 1L8.5 8.5l.94-2.06 2.06-.94-2.06-.94L8.5 2.5l-.94 2.06-2.06.94zm10 10l.94 2.06.94-2.06 2.06-.94-2.06-.94-.94-2.06-.94 2.06-2.06.94z\"/><path d=\"M17.41 7.96l-1.37-1.37c-.4-.4-.92-.59-1.43-.59-.52 0-1.04.2-1.43.59L10.3 9.45l-7.72 7.72c-.78.78-.78 2.05 0 2.83L4 21.41c.39.39.9.59 1.41.59.51 0 1.02-.2 1.41-.59l7.78-7.78 2.81-2.81c.8-.78.8-2.07 0-2.86zM5.41 20L4 18.59l7.72-7.72 1.47 1.35L5.41 20z\"/>\n",
       "  </svg>\n",
       "      </button>\n",
       "      \n",
       "  <style>\n",
       "    .colab-df-container {\n",
       "      display:flex;\n",
       "      flex-wrap:wrap;\n",
       "      gap: 12px;\n",
       "    }\n",
       "\n",
       "    .colab-df-convert {\n",
       "      background-color: #E8F0FE;\n",
       "      border: none;\n",
       "      border-radius: 50%;\n",
       "      cursor: pointer;\n",
       "      display: none;\n",
       "      fill: #1967D2;\n",
       "      height: 32px;\n",
       "      padding: 0 0 0 0;\n",
       "      width: 32px;\n",
       "    }\n",
       "\n",
       "    .colab-df-convert:hover {\n",
       "      background-color: #E2EBFA;\n",
       "      box-shadow: 0px 1px 2px rgba(60, 64, 67, 0.3), 0px 1px 3px 1px rgba(60, 64, 67, 0.15);\n",
       "      fill: #174EA6;\n",
       "    }\n",
       "\n",
       "    [theme=dark] .colab-df-convert {\n",
       "      background-color: #3B4455;\n",
       "      fill: #D2E3FC;\n",
       "    }\n",
       "\n",
       "    [theme=dark] .colab-df-convert:hover {\n",
       "      background-color: #434B5C;\n",
       "      box-shadow: 0px 1px 3px 1px rgba(0, 0, 0, 0.15);\n",
       "      filter: drop-shadow(0px 1px 2px rgba(0, 0, 0, 0.3));\n",
       "      fill: #FFFFFF;\n",
       "    }\n",
       "  </style>\n",
       "\n",
       "      <script>\n",
       "        const buttonEl =\n",
       "          document.querySelector('#df-7a8769ad-9ad3-4809-8b95-e2b1390e9ab9 button.colab-df-convert');\n",
       "        buttonEl.style.display =\n",
       "          google.colab.kernel.accessAllowed ? 'block' : 'none';\n",
       "\n",
       "        async function convertToInteractive(key) {\n",
       "          const element = document.querySelector('#df-7a8769ad-9ad3-4809-8b95-e2b1390e9ab9');\n",
       "          const dataTable =\n",
       "            await google.colab.kernel.invokeFunction('convertToInteractive',\n",
       "                                                     [key], {});\n",
       "          if (!dataTable) return;\n",
       "\n",
       "          const docLinkHtml = 'Like what you see? Visit the ' +\n",
       "            '<a target=\"_blank\" href=https://colab.research.google.com/notebooks/data_table.ipynb>data table notebook</a>'\n",
       "            + ' to learn more about interactive tables.';\n",
       "          element.innerHTML = '';\n",
       "          dataTable['output_type'] = 'display_data';\n",
       "          await google.colab.output.renderOutput(dataTable, element);\n",
       "          const docLink = document.createElement('div');\n",
       "          docLink.innerHTML = docLinkHtml;\n",
       "          element.appendChild(docLink);\n",
       "        }\n",
       "      </script>\n",
       "    </div>\n",
       "  </div>\n",
       "  "
      ],
      "text/plain": [
       "                             count        mean         std      min    25%  \\\n",
       "MonthlyRevenue             51047.0   58.654694   44.557776    -6.17   33.5   \n",
       "MonthlyMinutes             51047.0  524.047015  529.855789     0.00  156.0   \n",
       "TotalRecurringCharge       51047.0   46.686975   23.952288   -11.00   30.0   \n",
       "DirectorAssistedCalls      51047.0    0.892493    2.225687     0.00    0.0   \n",
       "OverageMinutes             51047.0   39.905460   96.465678     0.00    0.0   \n",
       "RoamingCalls               51047.0    1.232466    9.803517     0.00    0.0   \n",
       "PercChangeMinutes          51047.0  -11.464885  256.589244 -3875.00  -82.0   \n",
       "PercChangeRevenues         51047.0   -1.183415   39.432523 -1107.70   -6.9   \n",
       "DroppedCalls               51047.0    6.011489    9.043955     0.00    0.7   \n",
       "BlockedCalls               51047.0    4.085672   10.946905     0.00    0.0   \n",
       "UnansweredCalls            51047.0   28.288981   38.876194     0.00    5.3   \n",
       "CustomerCareCalls          51047.0    1.868999    5.096138     0.00    0.0   \n",
       "ThreewayCalls              51047.0    0.298838    1.168277     0.00    0.0   \n",
       "ReceivedCalls              51047.0  114.800121  166.485896     0.00    8.3   \n",
       "OutboundCalls              51047.0   25.377715   35.209147     0.00    3.3   \n",
       "InboundCalls               51047.0    8.178104   16.665878     0.00    0.0   \n",
       "PeakCallsInOut             51047.0   90.549515  104.947470     0.00   23.0   \n",
       "OffPeakCallsInOut          51047.0   67.650790   92.752699     0.00   11.0   \n",
       "DroppedBlockedCalls        51047.0   10.158003   15.555284     0.00    1.7   \n",
       "CallForwardingCalls        51047.0    0.012277    0.594168     0.00    0.0   \n",
       "CallWaitingCalls           51047.0    1.840504    5.585129     0.00    0.0   \n",
       "MonthsInService            51047.0   18.756264    9.800138     6.00   11.0   \n",
       "UniqueSubs                 51047.0    1.532157    1.223384     1.00    1.0   \n",
       "ActiveSubs                 51047.0    1.354340    0.675477     0.00    1.0   \n",
       "Handsets                   51047.0    1.805611    1.331184     0.00    1.0   \n",
       "HandsetModels              51047.0    1.558720    0.905950     0.00    1.0   \n",
       "CurrentEquipmentDays       51047.0  380.538386  253.805085    -5.00  205.0   \n",
       "AgeHH1                     51047.0   30.780085   22.285796     0.00    0.0   \n",
       "AgeHH2                     51047.0   20.767626   23.881611     0.00    0.0   \n",
       "RetentionCalls             51047.0    0.037201    0.206483     0.00    0.0   \n",
       "RetentionOffersAccepted    51047.0    0.018277    0.142458     0.00    0.0   \n",
       "ReferralsMadeBySubscriber  51047.0    0.052070    0.307592     0.00    0.0   \n",
       "IncomeGroup                51047.0    4.324524    3.138236     0.00    0.0   \n",
       "AdjustmentsToCreditRating  51047.0    0.053911    0.383147     0.00    0.0   \n",
       "\n",
       "                              50%     75%      max  \n",
       "MonthlyRevenue              48.29   70.96  1223.38  \n",
       "MonthlyMinutes             365.00  722.00  7359.00  \n",
       "TotalRecurringCharge        45.00   60.00   400.00  \n",
       "DirectorAssistedCalls        0.25    0.99   159.39  \n",
       "OverageMinutes               2.00   40.00  4321.00  \n",
       "RoamingCalls                 0.00    0.20  1112.40  \n",
       "PercChangeMinutes           -4.00   65.00  5192.00  \n",
       "PercChangeRevenues          -0.30    1.55  2483.50  \n",
       "DroppedCalls                 3.00    7.70   221.70  \n",
       "BlockedCalls                 1.00    3.70   384.30  \n",
       "UnansweredCalls             16.30   36.30   848.70  \n",
       "CustomerCareCalls            0.00    1.70   327.30  \n",
       "ThreewayCalls                0.00    0.30    66.00  \n",
       "ReceivedCalls               52.80  153.50  2692.40  \n",
       "OutboundCalls               13.70   34.00   644.30  \n",
       "InboundCalls                 2.00    9.30   519.30  \n",
       "PeakCallsInOut              62.00  121.30  2090.70  \n",
       "OffPeakCallsInOut           35.70   88.70  1474.70  \n",
       "DroppedBlockedCalls          5.30   12.30   411.70  \n",
       "CallForwardingCalls          0.00    0.00    81.30  \n",
       "CallWaitingCalls             0.30    1.30   212.70  \n",
       "MonthsInService             16.00   24.00    61.00  \n",
       "UniqueSubs                   1.00    2.00   196.00  \n",
       "ActiveSubs                   1.00    2.00    53.00  \n",
       "Handsets                     1.00    2.00    24.00  \n",
       "HandsetModels                1.00    2.00    15.00  \n",
       "CurrentEquipmentDays       329.00  515.00  1812.00  \n",
       "AgeHH1                      36.00   48.00    99.00  \n",
       "AgeHH2                       0.00   42.00    99.00  \n",
       "RetentionCalls               0.00    0.00     4.00  \n",
       "RetentionOffersAccepted      0.00    0.00     3.00  \n",
       "ReferralsMadeBySubscriber    0.00    0.00    35.00  \n",
       "IncomeGroup                  5.00    7.00     9.00  \n",
       "AdjustmentsToCreditRating    0.00    0.00    25.00  "
      ]
     },
     "execution_count": 14,
     "metadata": {},
     "output_type": "execute_result"
    }
   ],
   "source": [
    "data.describe().T"
   ]
  },
  {
   "cell_type": "code",
   "execution_count": 15,
   "id": "5b9bfb80",
   "metadata": {
    "colab": {
     "base_uri": "https://localhost:8080/"
    },
    "execution": {
     "iopub.execute_input": "2022-06-27T12:32:21.101612Z",
     "iopub.status.busy": "2022-06-27T12:32:21.100944Z",
     "iopub.status.idle": "2022-06-27T12:32:21.152339Z",
     "shell.execute_reply": "2022-06-27T12:32:21.151145Z"
    },
    "id": "5b9bfb80",
    "outputId": "bcaff704-d753-478f-8322-f073f679da5c",
    "papermill": {
     "duration": 0.068613,
     "end_time": "2022-06-27T12:32:21.154706",
     "exception": false,
     "start_time": "2022-06-27T12:32:21.086093",
     "status": "completed"
    },
    "tags": []
   },
   "outputs": [
    {
     "data": {
      "text/plain": [
       "30"
      ]
     },
     "execution_count": 15,
     "metadata": {},
     "output_type": "execute_result"
    }
   ],
   "source": [
    "# log transform skewed variables\n",
    "skew = data[num_cols].skew().sort_values(ascending = False)\n",
    "skew = skew[skew > 0.75].index.tolist()\n",
    "len(skew)"
   ]
  },
  {
   "cell_type": "code",
   "execution_count": 16,
   "id": "6f0ca7c6",
   "metadata": {
    "execution": {
     "iopub.execute_input": "2022-06-27T12:32:21.182021Z",
     "iopub.status.busy": "2022-06-27T12:32:21.181326Z",
     "iopub.status.idle": "2022-06-27T12:32:21.235527Z",
     "shell.execute_reply": "2022-06-27T12:32:21.234328Z"
    },
    "id": "6f0ca7c6",
    "papermill": {
     "duration": 0.070799,
     "end_time": "2022-06-27T12:32:21.238187",
     "exception": false,
     "start_time": "2022-06-27T12:32:21.167388",
     "status": "completed"
    },
    "tags": []
   },
   "outputs": [],
   "source": [
    "for c in skew:\n",
    "    if data[c].min() < 0:\n",
    "        data[c] = data[c] - data[c].min()\n",
    "    data[c] = data[c].apply(np.log1p)"
   ]
  },
  {
   "cell_type": "code",
   "execution_count": 17,
   "id": "704f3483",
   "metadata": {
    "colab": {
     "base_uri": "https://localhost:8080/",
     "height": 0
    },
    "execution": {
     "iopub.execute_input": "2022-06-27T12:32:21.265513Z",
     "iopub.status.busy": "2022-06-27T12:32:21.265126Z",
     "iopub.status.idle": "2022-06-27T12:32:25.011929Z",
     "shell.execute_reply": "2022-06-27T12:32:25.010800Z"
    },
    "id": "704f3483",
    "outputId": "0e5d3d16-e3f9-4fe7-83e7-ccf681cd5f22",
    "papermill": {
     "duration": 3.765056,
     "end_time": "2022-06-27T12:32:25.015993",
     "exception": false,
     "start_time": "2022-06-27T12:32:21.250937",
     "status": "completed"
    },
    "tags": []
   },
   "outputs": [
    {
     "data": {
      "image/png": "[encoded data removed]",
      "text/plain": [
       "<Figure size 1152x1152 with 36 Axes>"
      ]
     },
     "metadata": {
      "needs_background": "light"
     },
     "output_type": "display_data"
    }
   ],
   "source": [
    "params = {'axes.titlesize':'10',\n",
    "          'xtick.labelsize':'8',\n",
    "          'ytick.labelsize':'8'}\n",
    "matplotlib.rcParams.update(params)\n",
    "data[num_cols].hist(figsize = (16, 16));"
   ]
  },
  {
   "cell_type": "markdown",
   "id": "427eb16f",
   "metadata": {
    "id": "427eb16f",
    "papermill": {
     "duration": 0.018296,
     "end_time": "2022-06-27T12:32:25.058841",
     "exception": false,
     "start_time": "2022-06-27T12:32:25.040545",
     "status": "completed"
    },
    "tags": []
   },
   "source": [
    "### Non-numerical Features"
   ]
  },
  {
   "cell_type": "code",
   "execution_count": 18,
   "id": "392fb7aa",
   "metadata": {
    "execution": {
     "iopub.execute_input": "2022-06-27T12:32:25.097415Z",
     "iopub.status.busy": "2022-06-27T12:32:25.097012Z",
     "iopub.status.idle": "2022-06-27T12:32:25.131456Z",
     "shell.execute_reply": "2022-06-27T12:32:25.130327Z"
    },
    "id": "392fb7aa",
    "papermill": {
     "duration": 0.057753,
     "end_time": "2022-06-27T12:32:25.134542",
     "exception": false,
     "start_time": "2022-06-27T12:32:25.076789",
     "status": "completed"
    },
    "tags": []
   },
   "outputs": [],
   "source": [
    "data['Churn'] = data['Churn'].replace({'Yes':1, 'No': 0})"
   ]
  },
  {
   "cell_type": "code",
   "execution_count": 19,
   "id": "edd14f70",
   "metadata": {
    "execution": {
     "iopub.execute_input": "2022-06-27T12:32:25.169896Z",
     "iopub.status.busy": "2022-06-27T12:32:25.169200Z",
     "iopub.status.idle": "2022-06-27T12:32:25.244867Z",
     "shell.execute_reply": "2022-06-27T12:32:25.244009Z"
    },
    "id": "edd14f70",
    "papermill": {
     "duration": 0.093488,
     "end_time": "2022-06-27T12:32:25.247275",
     "exception": false,
     "start_time": "2022-06-27T12:32:25.153787",
     "status": "completed"
    },
    "tags": []
   },
   "outputs": [],
   "source": [
    "uniq_val = pd.DataFrame([[c, len(data[c].unique())] for c in data[obj_cols].columns], \n",
    "                        columns = ['Variable', 'Number']).set_index('Variable')"
   ]
  },
  {
   "cell_type": "code",
   "execution_count": 20,
   "id": "b0412d38",
   "metadata": {
    "colab": {
     "base_uri": "https://localhost:8080/"
    },
    "execution": {
     "iopub.execute_input": "2022-06-27T12:32:25.277124Z",
     "iopub.status.busy": "2022-06-27T12:32:25.276432Z",
     "iopub.status.idle": "2022-06-27T12:32:25.283556Z",
     "shell.execute_reply": "2022-06-27T12:32:25.282756Z"
    },
    "id": "b0412d38",
    "outputId": "1aea2eb8-ec58-422e-9ce2-875d43100e5b",
    "papermill": {
     "duration": 0.024444,
     "end_time": "2022-06-27T12:32:25.285598",
     "exception": false,
     "start_time": "2022-06-27T12:32:25.261154",
     "status": "completed"
    },
    "scrolled": true,
    "tags": []
   },
   "outputs": [
    {
     "data": {
      "text/plain": [
       "['Churn',\n",
       " 'ChildrenInHH',\n",
       " 'HandsetRefurbished',\n",
       " 'HandsetWebCapable',\n",
       " 'TruckOwner',\n",
       " 'RVOwner',\n",
       " 'Homeownership',\n",
       " 'BuysViaMailOrder',\n",
       " 'RespondsToMailOffers',\n",
       " 'OptOutMailings',\n",
       " 'NonUSTravel',\n",
       " 'OwnsComputer',\n",
       " 'HasCreditCard',\n",
       " 'NewCellphoneUser',\n",
       " 'NotNewCellphoneUser',\n",
       " 'OwnsMotorcycle',\n",
       " 'MadeCallToRetentionTeam']"
      ]
     },
     "execution_count": 20,
     "metadata": {},
     "output_type": "execute_result"
    }
   ],
   "source": [
    "# binary features\n",
    "bin_cols = uniq_val[uniq_val.Number == 2].index.tolist()\n",
    "bin_cols"
   ]
  },
  {
   "cell_type": "code",
   "execution_count": 21,
   "id": "ef9e9afd",
   "metadata": {
    "execution": {
     "iopub.execute_input": "2022-06-27T12:32:25.315380Z",
     "iopub.status.busy": "2022-06-27T12:32:25.314460Z",
     "iopub.status.idle": "2022-06-27T12:32:27.756183Z",
     "shell.execute_reply": "2022-06-27T12:32:27.755276Z"
    },
    "id": "ef9e9afd",
    "papermill": {
     "duration": 2.459007,
     "end_time": "2022-06-27T12:32:27.758457",
     "exception": false,
     "start_time": "2022-06-27T12:32:25.299450",
     "status": "completed"
    },
    "tags": []
   },
   "outputs": [],
   "source": [
    "# binarize binary columns\n",
    "for c in bin_cols:\n",
    "    data[c] = LabelBinarizer().fit_transform(data[c])"
   ]
  },
  {
   "cell_type": "code",
   "execution_count": 22,
   "id": "9aa5a8cd",
   "metadata": {
    "colab": {
     "base_uri": "https://localhost:8080/",
     "height": 0
    },
    "execution": {
     "iopub.execute_input": "2022-06-27T12:32:27.788430Z",
     "iopub.status.busy": "2022-06-27T12:32:27.787839Z",
     "iopub.status.idle": "2022-06-27T12:32:29.809010Z",
     "shell.execute_reply": "2022-06-27T12:32:29.807920Z"
    },
    "id": "9aa5a8cd",
    "outputId": "1a3e0b2a-24d2-456f-ab7a-b61075a18f1f",
    "papermill": {
     "duration": 2.038437,
     "end_time": "2022-06-27T12:32:29.811180",
     "exception": false,
     "start_time": "2022-06-27T12:32:27.772743",
     "status": "completed"
    },
    "tags": []
   },
   "outputs": [
    {
     "data": {
      "image/png": "[encoded data removed]",
      "text/plain": [
       "<Figure size 864x720 with 20 Axes>"
      ]
     },
     "metadata": {
      "needs_background": "light"
     },
     "output_type": "display_data"
    }
   ],
   "source": [
    "# plot distribution of binary variables\n",
    "data[bin_cols].hist(figsize = (12, 10));"
   ]
  },
  {
   "cell_type": "code",
   "execution_count": 23,
   "id": "af950af4",
   "metadata": {
    "colab": {
     "base_uri": "https://localhost:8080/"
    },
    "execution": {
     "iopub.execute_input": "2022-06-27T12:32:29.841879Z",
     "iopub.status.busy": "2022-06-27T12:32:29.841459Z",
     "iopub.status.idle": "2022-06-27T12:32:29.849470Z",
     "shell.execute_reply": "2022-06-27T12:32:29.848332Z"
    },
    "id": "af950af4",
    "outputId": "f1d26baf-7a68-403d-d8e6-514a978820de",
    "papermill": {
     "duration": 0.025918,
     "end_time": "2022-06-27T12:32:29.851636",
     "exception": false,
     "start_time": "2022-06-27T12:32:29.825718",
     "status": "completed"
    },
    "tags": []
   },
   "outputs": [
    {
     "data": {
      "text/plain": [
       "['HandsetPrice', 'CreditRating', 'PrizmCode', 'Occupation', 'MaritalStatus']"
      ]
     },
     "execution_count": 23,
     "metadata": {},
     "output_type": "execute_result"
    }
   ],
   "source": [
    "# other categorical features\n",
    "other_cols = uniq_val[uniq_val.Number > 2].index.tolist()\n",
    "other_cols"
   ]
  },
  {
   "cell_type": "code",
   "execution_count": 24,
   "id": "48e2f79a",
   "metadata": {
    "colab": {
     "base_uri": "https://localhost:8080/"
    },
    "execution": {
     "iopub.execute_input": "2022-06-27T12:32:29.886760Z",
     "iopub.status.busy": "2022-06-27T12:32:29.885539Z",
     "iopub.status.idle": "2022-06-27T12:32:29.902360Z",
     "shell.execute_reply": "2022-06-27T12:32:29.900136Z"
    },
    "id": "48e2f79a",
    "outputId": "695f2b33-2edd-4ed3-e644-f958ac493d75",
    "papermill": {
     "duration": 0.037203,
     "end_time": "2022-06-27T12:32:29.905482",
     "exception": false,
     "start_time": "2022-06-27T12:32:29.868279",
     "status": "completed"
    },
    "scrolled": true,
    "tags": []
   },
   "outputs": [
    {
     "data": {
      "text/plain": [
       "2-High       0.372069\n",
       "1-Highest    0.166944\n",
       "3-Good       0.164750\n",
       "5-Low        0.127314\n",
       "4-Medium     0.104943\n",
       "7-Lowest     0.041413\n",
       "6-VeryLow    0.022567\n",
       "Name: CreditRating, dtype: float64"
      ]
     },
     "execution_count": 24,
     "metadata": {},
     "output_type": "execute_result"
    }
   ],
   "source": [
    "# ordinal variable\n",
    "data.CreditRating.value_counts(normalize = True)"
   ]
  },
  {
   "cell_type": "code",
   "execution_count": 25,
   "id": "1d7d8262",
   "metadata": {
    "execution": {
     "iopub.execute_input": "2022-06-27T12:32:29.941303Z",
     "iopub.status.busy": "2022-06-27T12:32:29.940242Z",
     "iopub.status.idle": "2022-06-27T12:32:29.972416Z",
     "shell.execute_reply": "2022-06-27T12:32:29.971411Z"
    },
    "id": "1d7d8262",
    "papermill": {
     "duration": 0.051184,
     "end_time": "2022-06-27T12:32:29.975230",
     "exception": false,
     "start_time": "2022-06-27T12:32:29.924046",
     "status": "completed"
    },
    "tags": []
   },
   "outputs": [],
   "source": [
    "# transform to int\n",
    "data['CreditRating'] = [x[0] for x in data['CreditRating']]\n",
    "data['CreditRating'] = LabelEncoder().fit_transform(data['CreditRating'])"
   ]
  },
  {
   "cell_type": "code",
   "execution_count": 26,
   "id": "db8b730c",
   "metadata": {
    "execution": {
     "iopub.execute_input": "2022-06-27T12:32:30.007002Z",
     "iopub.status.busy": "2022-06-27T12:32:30.006297Z",
     "iopub.status.idle": "2022-06-27T12:32:30.061139Z",
     "shell.execute_reply": "2022-06-27T12:32:30.060277Z"
    },
    "id": "db8b730c",
    "papermill": {
     "duration": 0.073191,
     "end_time": "2022-06-27T12:32:30.063419",
     "exception": false,
     "start_time": "2022-06-27T12:32:29.990228",
     "status": "completed"
    },
    "tags": []
   },
   "outputs": [],
   "source": [
    "# one-hot encode other columns\n",
    "other_cols.remove('CreditRating')\n",
    "data = pd.get_dummies(data, columns = other_cols, drop_first=True)"
   ]
  },
  {
   "cell_type": "markdown",
   "id": "d0ed393d",
   "metadata": {
    "id": "d0ed393d",
    "papermill": {
     "duration": 0.014557,
     "end_time": "2022-06-27T12:32:30.092970",
     "exception": false,
     "start_time": "2022-06-27T12:32:30.078413",
     "status": "completed"
    },
    "tags": []
   },
   "source": [
    "## Feature Engineering"
   ]
  },
  {
   "cell_type": "code",
   "execution_count": 27,
   "id": "b82af8b9",
   "metadata": {
    "execution": {
     "iopub.execute_input": "2022-06-27T12:32:30.124173Z",
     "iopub.status.busy": "2022-06-27T12:32:30.123542Z",
     "iopub.status.idle": "2022-06-27T12:32:30.220979Z",
     "shell.execute_reply": "2022-06-27T12:32:30.219857Z"
    },
    "id": "b82af8b9",
    "papermill": {
     "duration": 0.116149,
     "end_time": "2022-06-27T12:32:30.223637",
     "exception": false,
     "start_time": "2022-06-27T12:32:30.107488",
     "status": "completed"
    },
    "tags": []
   },
   "outputs": [],
   "source": [
    "# scale features\n",
    "y = data.Churn\n",
    "s = MinMaxScaler()\n",
    "X = data.copy()\n",
    "X.drop(columns = ['Churn'])\n",
    "X = s.fit_transform(X)"
   ]
  },
  {
   "cell_type": "code",
   "execution_count": 28,
   "id": "d04735ea",
   "metadata": {
    "colab": {
     "base_uri": "https://localhost:8080/"
    },
    "execution": {
     "iopub.execute_input": "2022-06-27T12:32:30.255162Z",
     "iopub.status.busy": "2022-06-27T12:32:30.254765Z",
     "iopub.status.idle": "2022-06-27T12:32:30.261267Z",
     "shell.execute_reply": "2022-06-27T12:32:30.260280Z"
    },
    "id": "d04735ea",
    "outputId": "a468cee4-cd13-41b0-ab4d-0649a4c3f4ec",
    "papermill": {
     "duration": 0.025069,
     "end_time": "2022-06-27T12:32:30.263297",
     "exception": false,
     "start_time": "2022-06-27T12:32:30.238228",
     "status": "completed"
    },
    "tags": []
   },
   "outputs": [
    {
     "data": {
      "text/plain": [
       "(51047, 79)"
      ]
     },
     "execution_count": 28,
     "metadata": {},
     "output_type": "execute_result"
    }
   ],
   "source": [
    "X.shape"
   ]
  },
  {
   "cell_type": "markdown",
   "id": "c4bf9939",
   "metadata": {
    "id": "c4bf9939",
    "papermill": {
     "duration": 0.014109,
     "end_time": "2022-06-27T12:32:30.292083",
     "exception": false,
     "start_time": "2022-06-27T12:32:30.277974",
     "status": "completed"
    },
    "tags": []
   },
   "source": [
    "### PCA"
   ]
  },
  {
   "cell_type": "code",
   "execution_count": 29,
   "id": "c3c015dc",
   "metadata": {
    "colab": {
     "base_uri": "https://localhost:8080/",
     "height": 0
    },
    "execution": {
     "iopub.execute_input": "2022-06-27T12:32:30.322819Z",
     "iopub.status.busy": "2022-06-27T12:32:30.322118Z",
     "iopub.status.idle": "2022-06-27T12:33:28.296379Z",
     "shell.execute_reply": "2022-06-27T12:33:28.295637Z"
    },
    "id": "c3c015dc",
    "outputId": "5d19eff8-e29b-4ab8-af79-04b35a930ed4",
    "papermill": {
     "duration": 57.991986,
     "end_time": "2022-06-27T12:33:28.298405",
     "exception": false,
     "start_time": "2022-06-27T12:32:30.306419",
     "status": "completed"
    },
    "scrolled": true,
    "tags": []
   },
   "outputs": [
    {
     "data": {
      "text/plain": [
       "Text(0, 0.5, 'Explained Variance Ratio')"
      ]
     },
     "execution_count": 29,
     "metadata": {},
     "output_type": "execute_result"
    },
    {
     "data": {
      "image/png": "[encoded data removed]",
      "text/plain": [
       "<Figure size 432x288 with 1 Axes>"
      ]
     },
     "metadata": {
      "needs_background": "light"
     },
     "output_type": "display_data"
    }
   ],
   "source": [
    "# plot the explained variance\n",
    "X1 = X\n",
    "var = []\n",
    "for n in range(1, 80):\n",
    "    pca = PCA(n_components = n)\n",
    "    x = pca.fit_transform(X1)\n",
    "    var.append(pca.explained_variance_ratio_.sum())\n",
    "\n",
    "plt.plot(range(1, 80), var)\n",
    "plt.xlabel('Number of Components')\n",
    "plt.ylabel('Explained Variance Ratio')"
   ]
  },
  {
   "cell_type": "code",
   "execution_count": 30,
   "id": "c0d403e0",
   "metadata": {
    "colab": {
     "base_uri": "https://localhost:8080/"
    },
    "execution": {
     "iopub.execute_input": "2022-06-27T12:33:28.330941Z",
     "iopub.status.busy": "2022-06-27T12:33:28.330346Z",
     "iopub.status.idle": "2022-06-27T12:33:29.022424Z",
     "shell.execute_reply": "2022-06-27T12:33:29.021216Z"
    },
    "id": "c0d403e0",
    "outputId": "6fa4ce3a-c70e-4eaf-d915-db23fbc4755a",
    "papermill": {
     "duration": 0.712661,
     "end_time": "2022-06-27T12:33:29.026324",
     "exception": false,
     "start_time": "2022-06-27T12:33:28.313663",
     "status": "completed"
    },
    "scrolled": true,
    "tags": []
   },
   "outputs": [
    {
     "data": {
      "text/plain": [
       "0.8833843810784231"
      ]
     },
     "execution_count": 30,
     "metadata": {},
     "output_type": "execute_result"
    }
   ],
   "source": [
    "# choose n = 25\n",
    "pca = PCA(n_components = 25)\n",
    "X1 = pca.fit_transform(X)\n",
    "pca.explained_variance_ratio_.sum()"
   ]
  },
  {
   "cell_type": "code",
   "execution_count": 31,
   "id": "8eca72be",
   "metadata": {
    "colab": {
     "base_uri": "https://localhost:8080/",
     "height": 0
    },
    "execution": {
     "iopub.execute_input": "2022-06-27T12:33:29.071166Z",
     "iopub.status.busy": "2022-06-27T12:33:29.070287Z",
     "iopub.status.idle": "2022-06-27T12:33:29.669243Z",
     "shell.execute_reply": "2022-06-27T12:33:29.667937Z"
    },
    "id": "8eca72be",
    "outputId": "8c474e8a-119c-4952-c87f-2545a7bdb951",
    "papermill": {
     "duration": 0.618499,
     "end_time": "2022-06-27T12:33:29.671943",
     "exception": false,
     "start_time": "2022-06-27T12:33:29.053444",
     "status": "completed"
    },
    "tags": []
   },
   "outputs": [
    {
     "data": {
      "image/png": "[encoded data removed]",
      "text/plain": [
       "<Figure size 576x576 with 2 Axes>"
      ]
     },
     "metadata": {
      "needs_background": "light"
     },
     "output_type": "display_data"
    }
   ],
   "source": [
    "# visualize correlations between features and label\n",
    "data1 = pd.DataFrame(X1)\n",
    "data1['Churn'] = data.Churn\n",
    "corr = data1.corr()\n",
    "plt.figure(figsize = (8, 8))\n",
    "sns.heatmap(corr);"
   ]
  },
  {
   "cell_type": "code",
   "execution_count": 32,
   "id": "c78b69bd",
   "metadata": {
    "colab": {
     "base_uri": "https://localhost:8080/"
    },
    "execution": {
     "iopub.execute_input": "2022-06-27T12:33:29.705686Z",
     "iopub.status.busy": "2022-06-27T12:33:29.704732Z",
     "iopub.status.idle": "2022-06-27T12:33:29.711324Z",
     "shell.execute_reply": "2022-06-27T12:33:29.710281Z"
    },
    "id": "c78b69bd",
    "outputId": "1a12a116-71d9-4515-fd59-d6c0af63bf73",
    "papermill": {
     "duration": 0.025733,
     "end_time": "2022-06-27T12:33:29.713533",
     "exception": false,
     "start_time": "2022-06-27T12:33:29.687800",
     "status": "completed"
    },
    "tags": []
   },
   "outputs": [
    {
     "data": {
      "text/plain": [
       "(51047, 26)"
      ]
     },
     "execution_count": 32,
     "metadata": {},
     "output_type": "execute_result"
    }
   ],
   "source": [
    "data1.shape"
   ]
  },
  {
   "cell_type": "markdown",
   "id": "7f2a03a5",
   "metadata": {
    "id": "7f2a03a5",
    "papermill": {
     "duration": 0.015314,
     "end_time": "2022-06-27T12:33:29.744423",
     "exception": false,
     "start_time": "2022-06-27T12:33:29.729109",
     "status": "completed"
    },
    "tags": []
   },
   "source": [
    "## Training"
   ]
  },
  {
   "cell_type": "code",
   "execution_count": 33,
   "id": "2a79e31b",
   "metadata": {
    "execution": {
     "iopub.execute_input": "2022-06-27T12:33:29.777446Z",
     "iopub.status.busy": "2022-06-27T12:33:29.776688Z",
     "iopub.status.idle": "2022-06-27T12:33:29.817270Z",
     "shell.execute_reply": "2022-06-27T12:33:29.816056Z"
    },
    "id": "2a79e31b",
    "papermill": {
     "duration": 0.060045,
     "end_time": "2022-06-27T12:33:29.820018",
     "exception": false,
     "start_time": "2022-06-27T12:33:29.759973",
     "status": "completed"
    },
    "tags": []
   },
   "outputs": [],
   "source": [
    "# stratified split\n",
    "data1.drop(columns = ['Churn'], inplace = True)\n",
    "\n",
    "sp = StratifiedShuffleSplit(n_splits = 1, test_size = 0.3, random_state = 708)\n",
    "t, test = next(sp.split(data1, y))\n",
    "# get training and testing data\n",
    "X_t = data1.iloc[t, :]\n",
    "X_test = data1.iloc[test, :]\n",
    "y_t = y.iloc[t]\n",
    "y_test = y.iloc[test]"
   ]
  },
  {
   "cell_type": "code",
   "execution_count": 34,
   "id": "529fc23d",
   "metadata": {
    "colab": {
     "base_uri": "https://localhost:8080/"
    },
    "execution": {
     "iopub.execute_input": "2022-06-27T12:33:29.852898Z",
     "iopub.status.busy": "2022-06-27T12:33:29.852314Z",
     "iopub.status.idle": "2022-06-27T12:33:29.858457Z",
     "shell.execute_reply": "2022-06-27T12:33:29.857641Z"
    },
    "id": "529fc23d",
    "outputId": "c4088c6a-6a98-4fc6-cf5b-961b58278ab6",
    "papermill": {
     "duration": 0.024819,
     "end_time": "2022-06-27T12:33:29.860330",
     "exception": false,
     "start_time": "2022-06-27T12:33:29.835511",
     "status": "completed"
    },
    "tags": []
   },
   "outputs": [
    {
     "data": {
      "text/plain": [
       "(35732, 25)"
      ]
     },
     "execution_count": 34,
     "metadata": {},
     "output_type": "execute_result"
    }
   ],
   "source": [
    "X_t.shape"
   ]
  },
  {
   "cell_type": "code",
   "execution_count": 35,
   "id": "9a4a73d2",
   "metadata": {
    "execution": {
     "iopub.execute_input": "2022-06-27T12:33:29.893190Z",
     "iopub.status.busy": "2022-06-27T12:33:29.892576Z",
     "iopub.status.idle": "2022-06-27T12:33:29.916144Z",
     "shell.execute_reply": "2022-06-27T12:33:29.915257Z"
    },
    "id": "9a4a73d2",
    "papermill": {
     "duration": 0.042591,
     "end_time": "2022-06-27T12:33:29.918372",
     "exception": false,
     "start_time": "2022-06-27T12:33:29.875781",
     "status": "completed"
    },
    "tags": []
   },
   "outputs": [],
   "source": [
    "# split again to get validation data\n",
    "sp = StratifiedShuffleSplit(n_splits = 1, test_size = 0.3, random_state = 798)\n",
    "train, val = next(sp.split(X_t, y_t))\n",
    "# get training and validation data\n",
    "X_train = X_t.iloc[train, :]\n",
    "X_val = X_t.iloc[val, :]\n",
    "y_train = y_t.iloc[train]\n",
    "y_val = y_t.iloc[val]"
   ]
  },
  {
   "cell_type": "code",
   "execution_count": 36,
   "id": "61bbe602",
   "metadata": {
    "colab": {
     "base_uri": "https://localhost:8080/"
    },
    "execution": {
     "iopub.execute_input": "2022-06-27T12:33:29.951521Z",
     "iopub.status.busy": "2022-06-27T12:33:29.950953Z",
     "iopub.status.idle": "2022-06-27T12:33:29.957097Z",
     "shell.execute_reply": "2022-06-27T12:33:29.955664Z"
    },
    "id": "61bbe602",
    "outputId": "a5ddbef4-3080-4a3b-9ed1-d714631d797b",
    "papermill": {
     "duration": 0.025198,
     "end_time": "2022-06-27T12:33:29.959090",
     "exception": false,
     "start_time": "2022-06-27T12:33:29.933892",
     "status": "completed"
    },
    "scrolled": true,
    "tags": []
   },
   "outputs": [
    {
     "name": "stdout",
     "output_type": "stream",
     "text": [
      "(25012, 25)\n",
      "(10720, 25)\n",
      "(15315, 25)\n"
     ]
    }
   ],
   "source": [
    "print(X_train.shape)\n",
    "print(X_val.shape)\n",
    "print(X_test.shape)"
   ]
  },
  {
   "cell_type": "markdown",
   "id": "2ad65583",
   "metadata": {
    "id": "2ad65583",
    "papermill": {
     "duration": 0.015385,
     "end_time": "2022-06-27T12:33:29.990503",
     "exception": false,
     "start_time": "2022-06-27T12:33:29.975118",
     "status": "completed"
    },
    "tags": []
   },
   "source": [
    "### Logistic Regression"
   ]
  },
  {
   "cell_type": "code",
   "execution_count": 37,
   "id": "ef2f7a72",
   "metadata": {
    "colab": {
     "base_uri": "https://localhost:8080/"
    },
    "execution": {
     "iopub.execute_input": "2022-06-27T12:33:30.025375Z",
     "iopub.status.busy": "2022-06-27T12:33:30.024629Z",
     "iopub.status.idle": "2022-06-27T12:33:30.187259Z",
     "shell.execute_reply": "2022-06-27T12:33:30.186029Z"
    },
    "id": "ef2f7a72",
    "outputId": "557c64ef-d3a4-4367-fb9a-c108ba7f73c7",
    "papermill": {
     "duration": 0.183049,
     "end_time": "2022-06-27T12:33:30.189728",
     "exception": false,
     "start_time": "2022-06-27T12:33:30.006679",
     "status": "completed"
    },
    "tags": []
   },
   "outputs": [
    {
     "data": {
      "text/plain": [
       "LogisticRegression(solver='liblinear')"
      ]
     },
     "execution_count": 37,
     "metadata": {},
     "output_type": "execute_result"
    }
   ],
   "source": [
    "lr = LogisticRegression(penalty = 'l2', solver = 'liblinear')\n",
    "lr.fit(X_t, y_t)"
   ]
  },
  {
   "cell_type": "code",
   "execution_count": 38,
   "id": "c96f697b",
   "metadata": {
    "colab": {
     "base_uri": "https://localhost:8080/",
     "height": 306
    },
    "execution": {
     "iopub.execute_input": "2022-06-27T12:33:30.223568Z",
     "iopub.status.busy": "2022-06-27T12:33:30.222943Z",
     "iopub.status.idle": "2022-06-27T12:33:30.468933Z",
     "shell.execute_reply": "2022-06-27T12:33:30.467905Z"
    },
    "id": "c96f697b",
    "outputId": "cf17dfc6-5509-42fa-f77d-560ad041d530",
    "papermill": {
     "duration": 0.265837,
     "end_time": "2022-06-27T12:33:30.471517",
     "exception": false,
     "start_time": "2022-06-27T12:33:30.205680",
     "status": "completed"
    },
    "tags": []
   },
   "outputs": [
    {
     "data": {
      "image/png": "[encoded data removed]",
      "text/plain": [
       "<Figure size 432x288 with 2 Axes>"
      ]
     },
     "metadata": {},
     "output_type": "display_data"
    }
   ],
   "source": [
    "test_pred = lr.predict(X_test)\n",
    "cm_test = metrics.confusion_matrix(y_test, test_pred)\n",
    "sns.set(font_scale=2)\n",
    "sns.heatmap(cm_test, annot = True, fmt = 'd');\n",
    "plt.xlabel('Predicted Label');\n",
    "plt.ylabel('True Label');"
   ]
  },
  {
   "cell_type": "markdown",
   "id": "fc540b0e",
   "metadata": {
    "id": "fc540b0e",
    "papermill": {
     "duration": 0.015647,
     "end_time": "2022-06-27T12:33:30.503178",
     "exception": false,
     "start_time": "2022-06-27T12:33:30.487531",
     "status": "completed"
    },
    "tags": []
   },
   "source": [
    "### Model 1"
   ]
  },
  {
   "cell_type": "code",
   "execution_count": 39,
   "id": "be2c7093",
   "metadata": {
    "colab": {
     "base_uri": "https://localhost:8080/"
    },
    "execution": {
     "iopub.execute_input": "2022-06-27T12:33:30.536253Z",
     "iopub.status.busy": "2022-06-27T12:33:30.535890Z",
     "iopub.status.idle": "2022-06-27T12:33:30.656197Z",
     "shell.execute_reply": "2022-06-27T12:33:30.654738Z"
    },
    "id": "be2c7093",
    "outputId": "dadc1eb4-e6a9-48f2-da80-bab17fb06ae4",
    "papermill": {
     "duration": 0.139599,
     "end_time": "2022-06-27T12:33:30.658602",
     "exception": false,
     "start_time": "2022-06-27T12:33:30.519003",
     "status": "completed"
    },
    "scrolled": true,
    "tags": []
   },
   "outputs": [
    {
     "name": "stdout",
     "output_type": "stream",
     "text": [
      "Model: \"sequential\"\n",
      "_________________________________________________________________\n",
      " Layer (type)                Output Shape              Param #   \n",
      "=================================================================\n",
      " dense (Dense)               (None, 512)               13312     \n",
      "                                                                 \n",
      " activation (Activation)     (None, 512)               0         \n",
      "                                                                 \n",
      " dropout (Dropout)           (None, 512)               0         \n",
      "                                                                 \n",
      " dense_1 (Dense)             (None, 1)                 513       \n",
      "                                                                 \n",
      " activation_1 (Activation)   (None, 1)                 0         \n",
      "                                                                 \n",
      "=================================================================\n",
      "Total params: 13,825\n",
      "Trainable params: 13,825\n",
      "Non-trainable params: 0\n",
      "_________________________________________________________________\n"
     ]
    }
   ],
   "source": [
    "# simple neural netwrok\n",
    "in_shape = (25,)\n",
    "out_dim = 1\n",
    "\n",
    "m1 = Sequential()\n",
    "m1.add(Dense(512, input_shape = in_shape))\n",
    "m1.add(Activation('relu'))\n",
    "m1.add(Dropout(0.5))\n",
    "m1.add(Dense(out_dim))\n",
    "m1.add(Activation('sigmoid'))\n",
    "m1.summary()"
   ]
  },
  {
   "cell_type": "code",
   "execution_count": 40,
   "id": "9c19283a",
   "metadata": {
    "colab": {
     "base_uri": "https://localhost:8080/"
    },
    "execution": {
     "iopub.execute_input": "2022-06-27T12:33:30.692973Z",
     "iopub.status.busy": "2022-06-27T12:33:30.692315Z",
     "iopub.status.idle": "2022-06-27T12:33:32.685905Z",
     "shell.execute_reply": "2022-06-27T12:33:32.684800Z"
    },
    "id": "9c19283a",
    "outputId": "e668ad6b-2950-4957-d9a7-19e98adc2a97",
    "papermill": {
     "duration": 2.014033,
     "end_time": "2022-06-27T12:33:32.688742",
     "exception": false,
     "start_time": "2022-06-27T12:33:30.674709",
     "status": "completed"
    },
    "tags": []
   },
   "outputs": [
    {
     "name": "stdout",
     "output_type": "stream",
     "text": [
      "49/49 [==============================] - 1s 13ms/step - loss: 0.4819 - accuracy: 0.7660 - val_loss: 0.2958 - val_accuracy: 0.9376\n"
     ]
    },
    {
     "data": {
      "text/plain": [
       "<keras.callbacks.History at 0x7ffb33357b10>"
      ]
     },
     "execution_count": 40,
     "metadata": {},
     "output_type": "execute_result"
    }
   ],
   "source": [
    "batch = 512\n",
    "opt = tensorflow.keras.optimizers.Adam()\n",
    "m1.compile(loss = 'binary_crossentropy', optimizer = opt, metrics = ['accuracy'])\n",
    "m1.fit(X_train, y_train,\n",
    "              batch_size=batch,\n",
    "              epochs=1,\n",
    "              validation_data=(X_val, y_val),\n",
    "              shuffle=True)"
   ]
  },
  {
   "cell_type": "code",
   "execution_count": 53,
   "id": "536088f1",
   "metadata": {
    "colab": {
     "base_uri": "https://localhost:8080/",
     "height": 342
    },
    "execution": {
     "iopub.execute_input": "2022-06-27T12:33:32.724160Z",
     "iopub.status.busy": "2022-06-27T12:33:32.723691Z",
     "iopub.status.idle": "2022-06-27T12:33:33.479055Z",
     "shell.execute_reply": "2022-06-27T12:33:33.477899Z"
    },
    "id": "536088f1",
    "outputId": "3d9f81de-8eb5-41f9-fd8b-ea795a9f76a7",
    "papermill": {
     "duration": 0.775822,
     "end_time": "2022-06-27T12:33:33.481248",
     "exception": false,
     "start_time": "2022-06-27T12:33:32.705426",
     "status": "completed"
    },
    "tags": []
   },
   "outputs": [
    {
     "name": "stdout",
     "output_type": "stream",
     "text": [
      "479/479 [==============================] - 1s 1ms/step\n",
      "The Accuracy is : 0.9382957884427032\n"
     ]
    },
    {
     "data": {
      "image/png": "[encoded data removed]",
      "text/plain": [
       "<Figure size 432x288 with 2 Axes>"
      ]
     },
     "metadata": {},
     "output_type": "display_data"
    }
   ],
   "source": [
    "pred1 = m1.predict(X_test)\n",
    "cm1 = metrics.confusion_matrix(y_test, np.round(pred1))\n",
    "print(\"The Accuracy is :\",metrics.accuracy_score(y_test,np.round(pred1)))\n",
    "sns.set(font_scale=2)\n",
    "sns.heatmap(cm1, annot = True, fmt = 'd');\n",
    "plt.xlabel('Predicted Label');\n",
    "plt.ylabel('True Label');"
   ]
  },
  {
   "cell_type": "markdown",
   "id": "d9d62018",
   "metadata": {
    "id": "d9d62018",
    "papermill": {
     "duration": 0.019637,
     "end_time": "2022-06-27T12:33:33.518169",
     "exception": false,
     "start_time": "2022-06-27T12:33:33.498532",
     "status": "completed"
    },
    "tags": []
   },
   "source": [
    "### Model 2"
   ]
  },
  {
   "cell_type": "code",
   "execution_count": 42,
   "id": "0eec6954",
   "metadata": {
    "colab": {
     "base_uri": "https://localhost:8080/"
    },
    "execution": {
     "iopub.execute_input": "2022-06-27T12:33:33.555908Z",
     "iopub.status.busy": "2022-06-27T12:33:33.555541Z",
     "iopub.status.idle": "2022-06-27T12:33:33.587830Z",
     "shell.execute_reply": "2022-06-27T12:33:33.586471Z"
    },
    "id": "0eec6954",
    "outputId": "a32e9077-e621-4d67-e93d-ea06bd7a487e",
    "papermill": {
     "duration": 0.054496,
     "end_time": "2022-06-27T12:33:33.590572",
     "exception": false,
     "start_time": "2022-06-27T12:33:33.536076",
     "status": "completed"
    },
    "tags": []
   },
   "outputs": [
    {
     "name": "stdout",
     "output_type": "stream",
     "text": [
      "Model: \"sequential_1\"\n",
      "_________________________________________________________________\n",
      " Layer (type)                Output Shape              Param #   \n",
      "=================================================================\n",
      " dense_2 (Dense)             (None, 16)                416       \n",
      "                                                                 \n",
      " activation_2 (Activation)   (None, 16)                0         \n",
      "                                                                 \n",
      " dropout_1 (Dropout)         (None, 16)                0         \n",
      "                                                                 \n",
      " dense_3 (Dense)             (None, 1)                 17        \n",
      "                                                                 \n",
      " activation_3 (Activation)   (None, 1)                 0         \n",
      "                                                                 \n",
      "=================================================================\n",
      "Total params: 433\n",
      "Trainable params: 433\n",
      "Non-trainable params: 0\n",
      "_________________________________________________________________\n"
     ]
    }
   ],
   "source": [
    "in_shape = (25,)\n",
    "out_dim = 1\n",
    "\n",
    "m2 = Sequential()\n",
    "m2.add(Dense(16, input_shape = in_shape))\n",
    "m2.add(Activation('relu'))\n",
    "m2.add(Dropout(0.5))\n",
    "m2.add(Dense(out_dim))\n",
    "m2.add(Activation('sigmoid'))\n",
    "m2.summary()"
   ]
  },
  {
   "cell_type": "code",
   "execution_count": 43,
   "id": "bb48925b",
   "metadata": {
    "colab": {
     "base_uri": "https://localhost:8080/"
    },
    "execution": {
     "iopub.execute_input": "2022-06-27T12:33:33.627825Z",
     "iopub.status.busy": "2022-06-27T12:33:33.626548Z",
     "iopub.status.idle": "2022-06-27T12:33:34.447243Z",
     "shell.execute_reply": "2022-06-27T12:33:34.446200Z"
    },
    "id": "bb48925b",
    "outputId": "15387a04-56d9-4ec1-8634-7158a06cf921",
    "papermill": {
     "duration": 0.841192,
     "end_time": "2022-06-27T12:33:34.449572",
     "exception": false,
     "start_time": "2022-06-27T12:33:33.608380",
     "status": "completed"
    },
    "tags": []
   },
   "outputs": [
    {
     "name": "stdout",
     "output_type": "stream",
     "text": [
      "49/49 [==============================] - 1s 6ms/step - loss: 0.6295 - accuracy: 0.6511 - val_loss: 0.5561 - val_accuracy: 0.8032\n"
     ]
    },
    {
     "data": {
      "text/plain": [
       "<keras.callbacks.History at 0x7ffb2ff51450>"
      ]
     },
     "execution_count": 43,
     "metadata": {},
     "output_type": "execute_result"
    }
   ],
   "source": [
    "batch = 512\n",
    "opt = tensorflow.keras.optimizers.Adam()\n",
    "m2.compile(loss = 'binary_crossentropy', optimizer = opt, metrics = ['accuracy'])\n",
    "\n",
    "m2.fit(X_train, y_train,\n",
    "              batch_size=batch,\n",
    "              epochs=1,\n",
    "              validation_data=(X_val, y_val),\n",
    "              shuffle=True)"
   ]
  },
  {
   "cell_type": "code",
   "execution_count": 54,
   "id": "086a1b13",
   "metadata": {
    "colab": {
     "base_uri": "https://localhost:8080/",
     "height": 342
    },
    "execution": {
     "iopub.execute_input": "2022-06-27T12:33:34.486463Z",
     "iopub.status.busy": "2022-06-27T12:33:34.485800Z",
     "iopub.status.idle": "2022-06-27T12:33:35.095158Z",
     "shell.execute_reply": "2022-06-27T12:33:35.093915Z"
    },
    "id": "086a1b13",
    "outputId": "c647ddce-deac-492f-f843-8011330af442",
    "papermill": {
     "duration": 0.630504,
     "end_time": "2022-06-27T12:33:35.097661",
     "exception": false,
     "start_time": "2022-06-27T12:33:34.467157",
     "status": "completed"
    },
    "tags": []
   },
   "outputs": [
    {
     "name": "stdout",
     "output_type": "stream",
     "text": [
      "479/479 [==============================] - 1s 1ms/step\n",
      "The Accuracy is : 0.8099249102187398\n"
     ]
    },
    {
     "data": {
      "image/png": "[encoded data removed]",
      "text/plain": [
       "<Figure size 432x288 with 2 Axes>"
      ]
     },
     "metadata": {},
     "output_type": "display_data"
    }
   ],
   "source": [
    "pred2 = m2.predict(X_test)\n",
    "cm2 = metrics.confusion_matrix(y_test, np.round(pred2))\n",
    "print(\"The Accuracy is :\",metrics.accuracy_score(y_test,np.round(pred2)))\n",
    "\n",
    "sns.set(font_scale=2)\n",
    "sns.heatmap(cm2, annot = True, fmt = 'd');\n",
    "plt.xlabel('Predicted Label');\n",
    "plt.ylabel('True Label');"
   ]
  },
  {
   "cell_type": "markdown",
   "id": "416f60c2",
   "metadata": {
    "id": "416f60c2",
    "papermill": {
     "duration": 0.017706,
     "end_time": "2022-06-27T12:33:35.133214",
     "exception": false,
     "start_time": "2022-06-27T12:33:35.115508",
     "status": "completed"
    },
    "tags": []
   },
   "source": [
    "### CNN"
   ]
  },
  {
   "cell_type": "code",
   "execution_count": 45,
   "id": "172def69",
   "metadata": {
    "colab": {
     "base_uri": "https://localhost:8080/"
    },
    "execution": {
     "iopub.execute_input": "2022-06-27T12:33:35.170858Z",
     "iopub.status.busy": "2022-06-27T12:33:35.170495Z",
     "iopub.status.idle": "2022-06-27T12:33:35.215565Z",
     "shell.execute_reply": "2022-06-27T12:33:35.214600Z"
    },
    "id": "172def69",
    "outputId": "6d5d6935-c6ee-4959-b4c3-e51111f0d70f",
    "papermill": {
     "duration": 0.066834,
     "end_time": "2022-06-27T12:33:35.218038",
     "exception": false,
     "start_time": "2022-06-27T12:33:35.151204",
     "status": "completed"
    },
    "scrolled": true,
    "tags": []
   },
   "outputs": [
    {
     "name": "stdout",
     "output_type": "stream",
     "text": [
      "Model: \"sequential_2\"\n",
      "_________________________________________________________________\n",
      " Layer (type)                Output Shape              Param #   \n",
      "=================================================================\n",
      " conv1d (Conv1D)             (None, 1, 32)             4032      \n",
      "                                                                 \n",
      " activation_4 (Activation)   (None, 1, 32)             0         \n",
      "                                                                 \n",
      " flatten (Flatten)           (None, 32)                0         \n",
      "                                                                 \n",
      " dense_4 (Dense)             (None, 1)                 33        \n",
      "                                                                 \n",
      " activation_5 (Activation)   (None, 1)                 0         \n",
      "                                                                 \n",
      "=================================================================\n",
      "Total params: 4,065\n",
      "Trainable params: 4,065\n",
      "Non-trainable params: 0\n",
      "_________________________________________________________________\n"
     ]
    }
   ],
   "source": [
    "m3 = Sequential()\n",
    "m3.add(Conv1D(32, 5, padding = 'same', input_shape = (1, 25)))\n",
    "m3.add(Activation('relu'))\n",
    "m3.add(Flatten())\n",
    "m3.add(Dense(out_dim))\n",
    "m3.add(Activation('sigmoid'))\n",
    "m3.summary()"
   ]
  },
  {
   "cell_type": "code",
   "execution_count": 55,
   "id": "977f3e85",
   "metadata": {
    "colab": {
     "base_uri": "https://localhost:8080/"
    },
    "execution": {
     "iopub.execute_input": "2022-06-27T12:33:35.256797Z",
     "iopub.status.busy": "2022-06-27T12:33:35.255634Z",
     "iopub.status.idle": "2022-06-27T12:33:36.255374Z",
     "shell.execute_reply": "2022-06-27T12:33:36.253574Z"
    },
    "id": "977f3e85",
    "outputId": "b8e7461f-bf77-4d8e-f548-9c235d3f63c2",
    "papermill": {
     "duration": 1.02122,
     "end_time": "2022-06-27T12:33:36.257545",
     "exception": false,
     "start_time": "2022-06-27T12:33:35.236325",
     "status": "completed"
    },
    "tags": []
   },
   "outputs": [
    {
     "name": "stdout",
     "output_type": "stream",
     "text": [
      "49/49 [==============================] - 1s 7ms/step - loss: 0.4775 - accuracy: 0.7644 - val_loss: 0.4144 - val_accuracy: 0.8186\n"
     ]
    },
    {
     "data": {
      "text/plain": [
       "<keras.callbacks.History at 0x7ffb2fa35c50>"
      ]
     },
     "execution_count": 55,
     "metadata": {},
     "output_type": "execute_result"
    }
   ],
   "source": [
    "batch = 512\n",
    "# reshape X, y for convolutional layer\n",
    "X_3d_train = X_train.to_numpy().reshape(X_train.shape[0], 1, X_train.shape[1])\n",
    "X_3d_val = X_val.to_numpy().reshape(X_val.shape[0], 1, X_val.shape[1])\n",
    "y_3d_train = y_train.to_numpy()\n",
    "y_3d_val = y_val.to_numpy()\n",
    "\n",
    "opt = tensorflow.keras.optimizers.Adam()\n",
    "m3.compile(loss = 'binary_crossentropy', optimizer = opt, metrics = ['accuracy'])\n",
    "m3.fit(X_3d_train, y_3d_train,\n",
    "              batch_size=batch,\n",
    "              epochs=1,\n",
    "              validation_data=(X_3d_val, y_3d_val))"
   ]
  },
  {
   "cell_type": "code",
   "execution_count": 56,
   "id": "0801e476",
   "metadata": {
    "colab": {
     "base_uri": "https://localhost:8080/",
     "height": 342
    },
    "execution": {
     "iopub.execute_input": "2022-06-27T12:33:36.297117Z",
     "iopub.status.busy": "2022-06-27T12:33:36.296524Z",
     "iopub.status.idle": "2022-06-27T12:33:36.942567Z",
     "shell.execute_reply": "2022-06-27T12:33:36.941277Z"
    },
    "id": "0801e476",
    "outputId": "f999a507-9d86-4c0c-a098-dec27d2d0339",
    "papermill": {
     "duration": 0.669202,
     "end_time": "2022-06-27T12:33:36.945424",
     "exception": false,
     "start_time": "2022-06-27T12:33:36.276222",
     "status": "completed"
    },
    "tags": []
   },
   "outputs": [
    {
     "name": "stdout",
     "output_type": "stream",
     "text": [
      "479/479 [==============================] - 1s 1ms/step\n",
      "The Accuracy is : 0.8182174338883448\n"
     ]
    },
    {
     "data": {
      "image/png": "[encoded data removed]",
      "text/plain": [
       "<Figure size 432x288 with 2 Axes>"
      ]
     },
     "metadata": {},
     "output_type": "display_data"
    }
   ],
   "source": [
    "X_3d_test = X_test.to_numpy().reshape(X_test.shape[0], 1, X_test.shape[1])\n",
    "y_3d_test = y_test.to_numpy()\n",
    "\n",
    "pred3 = m3.predict(X_3d_test)\n",
    "cm3 = metrics.confusion_matrix(y_3d_test, np.round(pred3))\n",
    "print(\"The Accuracy is :\",metrics.accuracy_score(y_test,np.round(pred3)))\n",
    "sns.set(font_scale=2)\n",
    "sns.heatmap(cm3, annot = True, fmt = 'd');\n",
    "plt.xlabel('Predicted Label');\n",
    "plt.ylabel('True Label');"
   ]
  },
  {
   "cell_type": "markdown",
   "id": "cf8d0041",
   "metadata": {
    "id": "cf8d0041"
   },
   "source": [
    "Decision Tree"
   ]
  },
  {
   "cell_type": "code",
   "execution_count": 57,
   "id": "93c6a53b",
   "metadata": {
    "id": "93c6a53b"
   },
   "outputs": [],
   "source": [
    "import numpy as np\n",
    "import pandas as pd\n",
    "from sklearn.metrics import confusion_matrix\n",
    "from sklearn.model_selection import train_test_split\n",
    "from sklearn.tree import DecisionTreeClassifier\n",
    "from sklearn.metrics import accuracy_score\n",
    "from sklearn.metrics import classification_report\n",
    "\n",
    "def cal_accuracy(y_test, y_pred):\n",
    "\t\n",
    "\tprint(\"Confusion Matrix: \",\n",
    "\t\tconfusion_matrix(y_test, y_pred))\n",
    "\t\n",
    "\tprint (\"Accuracy : \",\n",
    "\taccuracy_score(y_test,y_pred)*100)\n",
    "\t\n",
    "\tprint(\"Report : \",\n",
    "\tclassification_report(y_test, y_pred))\n",
    "    \n",
    "def train_using_gini(X_train, X_test, y_train):\n",
    "\n",
    "\t# Creating the classifier object\n",
    "\tclf_gini = DecisionTreeClassifier(criterion = \"gini\",\n",
    "\t\t\trandom_state = 100,max_depth=3, min_samples_leaf=5)\n",
    "\n",
    "\t# Performing training\n",
    "\tclf_gini.fit(X_train, y_train)\n",
    "\treturn clf_gini\n",
    "\n",
    "# Function to perform training with entropy.\n",
    "def tarin_using_entropy(X_train, X_test, y_train):\n",
    "\n",
    "\t# Decision tree with entropy\n",
    "\tclf_entropy = DecisionTreeClassifier(\n",
    "\t\t\tcriterion = \"entropy\", random_state = 100,\n",
    "\t\t\tmax_depth = 3, min_samples_leaf = 5)\n",
    "\n",
    "\t# Performing training\n",
    "\tclf_entropy.fit(X_train, y_train)\n",
    "\treturn clf_entropy\n",
    "\n",
    "# Function to make predictions\n",
    "def prediction(X_test, clf_object):\n",
    "\n",
    "\t# Predicton on test with giniIndex\n",
    "\ty_pred = clf_object.predict(X_test)\n",
    "\tprint(\"Predicted values:\")\n",
    "\tprint(y_pred)\n",
    "\treturn y_pred\n",
    "\n",
    "# Function to calculate accuracy\n",
    "def cal_accuracy(y_test, y_pred):\n",
    "\t\n",
    "\tprint(\"Confusion Matrix: \",\n",
    "\t\tconfusion_matrix(y_test, y_pred))\n",
    "\t\n",
    "\tprint (\"Accuracy : \",\n",
    "\taccuracy_score(y_test,y_pred)*100)\n",
    "\t\n",
    "\tprint(\"Report : \",\n",
    "\tclassification_report(y_test, y_pred))\n",
    "    \n",
    "def splitdataset(X,Y):\n",
    "  \n",
    "  \n",
    "    # Splitting the dataset into train and test\n",
    "    X_train, X_test, y_train, y_test = train_test_split( \n",
    "    X, Y, test_size = 0.3, random_state = 100)\n",
    "      \n",
    "    return X, Y, X_train, X_test, y_train, y_test"
   ]
  },
  {
   "cell_type": "code",
   "execution_count": 58,
   "id": "4ebabde1",
   "metadata": {
    "colab": {
     "base_uri": "https://localhost:8080/"
    },
    "id": "4ebabde1",
    "outputId": "ea829bc3-6f54-487f-ccc8-070a5311dff1"
   },
   "outputs": [
    {
     "name": "stdout",
     "output_type": "stream",
     "text": [
      "Results Using Gini Index:\n",
      "Predicted values:\n",
      "[1 0 0 ... 1 1 0]\n",
      "Confusion Matrix:  [[10889    12]\n",
      " [  139  4275]]\n",
      "Accuracy :  99.01403852432256\n",
      "Report :                precision    recall  f1-score   support\n",
      "\n",
      "           0       0.99      1.00      0.99     10901\n",
      "           1       1.00      0.97      0.98      4414\n",
      "\n",
      "    accuracy                           0.99     15315\n",
      "   macro avg       0.99      0.98      0.99     15315\n",
      "weighted avg       0.99      0.99      0.99     15315\n",
      "\n",
      "Results Using Entropy:\n",
      "Predicted values:\n",
      "[1 0 0 ... 1 1 0]\n",
      "Confusion Matrix:  [[10892     9]\n",
      " [   16  4398]]\n",
      "Accuracy :  99.83676134508652\n",
      "Report :                precision    recall  f1-score   support\n",
      "\n",
      "           0       1.00      1.00      1.00     10901\n",
      "           1       1.00      1.00      1.00      4414\n",
      "\n",
      "    accuracy                           1.00     15315\n",
      "   macro avg       1.00      1.00      1.00     15315\n",
      "weighted avg       1.00      1.00      1.00     15315\n",
      "\n"
     ]
    }
   ],
   "source": [
    "\t# Building Phase\n",
    "\t#data = importdata()\n",
    "\t#X, Y, X_train, X_test, y_train, y_test = splitdataset(X,y)\n",
    "\tclf_gini = train_using_gini(X_train, X_test, y_train)\n",
    "\tclf_entropy = tarin_using_entropy(X_train, X_test, y_train)\n",
    "\t\n",
    "\t# Operational Phase\n",
    "\tprint(\"Results Using Gini Index:\")\n",
    "\t\n",
    "\t# Prediction using gini\n",
    "\ty_pred_gini = prediction(X_test, clf_gini)\n",
    "\tcal_accuracy(y_test, y_pred_gini)\n",
    "\t\n",
    "\tprint(\"Results Using Entropy:\")\n",
    "\t# Prediction using entropy\n",
    "\ty_pred_entropy = prediction(X_test, clf_entropy)\n",
    "\tcal_accuracy(y_test, y_pred_entropy)\t"
   ]
  },
  {
   "cell_type": "markdown",
   "id": "xrO1K0FxbL0z",
   "metadata": {
    "id": "xrO1K0FxbL0z"
   },
   "source": [
    "KNN"
   ]
  },
  {
   "cell_type": "code",
   "execution_count": 59,
   "id": "DqUkllxzbFXD",
   "metadata": {
    "colab": {
     "base_uri": "https://localhost:8080/"
    },
    "id": "DqUkllxzbFXD",
    "outputId": "7a02d994-916f-4f11-dfc9-673f7d3d16c7"
   },
   "outputs": [
    {
     "name": "stdout",
     "output_type": "stream",
     "text": [
      "Accuracy with k=5 99.27522037218414\n",
      "Accuracy with k=2 96.89846555664381\n"
     ]
    }
   ],
   "source": [
    "#Importing the modules\n",
    "import numpy as np\n",
    "import pandas as pd\n",
    "\n",
    "import matplotlib.pyplot as plt\n",
    "\n",
    "from sklearn.datasets import make_blobs\n",
    "from sklearn.neighbors import KNeighborsClassifier\n",
    "from sklearn.model_selection import train_test_split\n",
    "\n",
    "# KNN Classifier Implementation\n",
    "knn5 = KNeighborsClassifier(algorithm='auto', leaf_size=30, metric='minkowski',\n",
    "                           metric_params=None, n_jobs=1, n_neighbors=5, p=2,\n",
    "                           weights='uniform')\n",
    "knn1 = KNeighborsClassifier(n_neighbors=2)\n",
    "\n",
    "#Predictions for the KNN Classifiers\n",
    "knn5.fit(X_train, y_train)\n",
    "knn1.fit(X_train, y_train)\n",
    "\n",
    "y_pred_5 = knn5.predict(X_test)\n",
    "y_pred_1 = knn1.predict(X_test)\n",
    "\n",
    "print(\"Accuracy with k=5\", accuracy_score(y_test, y_pred_5)*100)\n",
    "print(\"Accuracy with k=2\", accuracy_score(y_test, y_pred_1)*100)"
   ]
  }
 ],
 "metadata": {
  "colab": {
   "provenance": []
  },
  "kernelspec": {
   "display_name": "Python 3 (ipykernel)",
   "language": "python",
   "name": "python3"
  },
  "language_info": {
   "codemirror_mode": {
    "name": "ipython",
    "version": 3
   },
   "file_extension": ".py",
   "mimetype": "text/x-python",
   "name": "python",
   "nbconvert_exporter": "python",
   "pygments_lexer": "ipython3",
   "version": "3.9.7"
  },
  "papermill": {
   "default_parameters": {},
   "duration": 101.781449,
   "end_time": "2022-06-27T12:33:40.018143",
   "environment_variables": {},
   "exception": null,
   "input_path": "__notebook__.ipynb",
   "output_path": "__notebook__.ipynb",
   "parameters": {},
   "start_time": "2022-06-27T12:31:58.236694",
   "version": "2.3.4"
  }
 },
 "nbformat": 4,
 "nbformat_minor": 5
}
